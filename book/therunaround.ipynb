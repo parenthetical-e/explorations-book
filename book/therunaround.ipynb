{
 "metadata": {
  "language_info": {
   "codemirror_mode": {
    "name": "ipython",
    "version": 3
   },
   "file_extension": ".py",
   "mimetype": "text/x-python",
   "name": "python",
   "nbconvert_exporter": "python",
   "pygments_lexer": "ipython3",
   "version": "3.6.7-final"
  },
  "orig_nbformat": 2,
  "kernelspec": {
   "name": "python3",
   "display_name": "Python 3.6.7 64-bit",
   "metadata": {
    "interpreter": {
     "hash": "5c0fa7a4f8f1487a2aac67eb43e7b2e553808a81f9be50af9e1ab194481cfe22"
    }
   }
  }
 },
 "nbformat": 4,
 "nbformat_minor": 2,
 "cells": [
  {
   "source": [
    "# The Runaround - Lab\n",
    "\n",
    "In this assignment we take on random exploration, as a classic battle of brownian versus levy.\n",
    "\n",
    "There are two goals. First to introduce these random walks, and to compare their properties. Second to contrast them, in the same search environments. \n",
    "\n",
    "## Install and import needed modules"
   ],
   "cell_type": "markdown",
   "metadata": {}
  },
  {
   "cell_type": "code",
   "execution_count": null,
   "metadata": {},
   "outputs": [],
   "source": [
    "# Install explorationlib?\n",
    "!pip install --upgrade git+https://github.com/parenthetical-e/explorationlib"
   ]
  },
  {
   "cell_type": "code",
   "execution_count": null,
   "metadata": {},
   "outputs": [],
   "source": [
    "# Import misc\n",
    "import shutil\n",
    "import glob\n",
    "import os\n",
    "import copy\n",
    "import sys\n",
    "\n",
    "# Vis - 1\n",
    "import numpy as np\n",
    "import seaborn as sns\n",
    "import matplotlib.pyplot as plt\n",
    "\n",
    "# Exp\n",
    "from explorationlib.run import experiment\n",
    "from explorationlib.util import select_exp\n",
    "from explorationlib.util import load\n",
    "from explorationlib.util import save\n",
    "\n",
    "# Agents\n",
    "from explorationlib.agent import Diffusion2d\n",
    "from explorationlib.agent import Levy2d\n",
    "from explorationlib.agent import TruncatedLevy2d\n",
    "\n",
    "# Env\n",
    "from explorationlib.local_gym import Field\n",
    "from explorationlib.local_gym import Bounded\n",
    "from explorationlib.local_gym import Grid \n",
    "from explorationlib.local_gym import uniform_targets\n",
    "from explorationlib.local_gym import constant_values\n",
    "\n",
    "# Vis - 2\n",
    "from explorationlib.plot import plot_position2d\n",
    "from explorationlib.plot import plot_length_hist\n",
    "from explorationlib.plot import plot_length\n",
    "from explorationlib.plot import plot_targets2d\n",
    "from explorationlib.plot import render_2d\n",
    "from explorationlib.plot import show_gif\n",
    "\n",
    "# Score\n",
    "from explorationlib.score import search_efficiency\n",
    "from explorationlib.score import average_reward\n",
    "from explorationlib.score import first_reward"
   ]
  },
  {
   "cell_type": "code",
   "execution_count": null,
   "metadata": {},
   "outputs": [],
   "source": [
    "# A home for data\n",
    "if not os.path.exists(\"data\"):\n",
    "    os.makedirs(\"data\")\n",
    "\n",
    "# Shared naming\n",
    "base_name = \"data/lab1\""
   ]
  },
  {
   "cell_type": "code",
   "execution_count": null,
   "metadata": {},
   "outputs": [],
   "source": [
    "# Pretty plots\n",
    "%matplotlib inline\n",
    "%config InlineBackend.figure_format='retina'\n",
    "%config IPCompleter.greedy=True\n",
    "\n",
    "plt.rcParams[\"axes.facecolor\"] = \"white\"\n",
    "plt.rcParams[\"figure.facecolor\"] = \"white\"\n",
    "plt.rcParams[\"font.size\"] = \"16\"\n",
    "\n",
    "# Dev\n",
    "# Uncomment for local development\n",
    "%load_ext nb_black\n",
    "%load_ext autoreload\n",
    "%autoreload 2"
   ]
  },
  {
   "source": [
    "## Section 1 - getting to know our explorers\n",
    "\n",
    "Run a diffusion and levy walker for 10000 steps, in an unbounded Field. Do 10 different experiments."
   ],
   "cell_type": "markdown",
   "metadata": {}
  },
  {
   "cell_type": "code",
   "execution_count": null,
   "metadata": {},
   "outputs": [],
   "source": [
    "# Setup\n",
    "num_steps = 10000\n",
    "num_experiments = 10\n",
    "detection_radius = 1\n",
    "\n",
    "min_length = 0.1\n",
    "step_size = 0.1  # Should be < (2 * detection_radius)\n",
    "\n",
    "# Cleanup \n",
    "for path in glob.glob(f\"{base_name}_*.pkl\"):\n",
    "    os.remove(path)\n",
    "    \n",
    "# Create env \n",
    "env = Field()\n",
    "\n",
    "# Create agents\n",
    "diffusion = Diffusion2d(\n",
    "    min_length=min_length, \n",
    "    scale=0.1, \n",
    "    detection_radius=detection_radius, \n",
    "    step_size=step_size,\n",
    ")\n",
    "levy = Levy2d(min_length=min_length, \n",
    "    exponent=2, \n",
    "    detection_radius=detection_radius, \n",
    "    step_size=step_size,\n",
    ")\n",
    "\n",
    "# !\n",
    "levy_exp = experiment(f\"{base_name}_levy_1.pkl\", \n",
    "    levy, \n",
    "    env, \n",
    "    num_steps=num_steps, \n",
    "    num_experiments=num_experiments,\n",
    "    seed=59393,\n",
    "    dump=False,\n",
    ")\n",
    "diffusion_exp = experiment(f\"{base_name}_diffusion_1.pkl\", \n",
    "    diffusion, \n",
    "    env, \n",
    "    num_steps=num_steps, \n",
    "    num_experiments=num_experiments,\n",
    "    seed=59393,\n",
    "    dump=False,\n",
    ")"
   ]
  },
  {
   "cell_type": "code",
   "execution_count": null,
   "metadata": {},
   "outputs": [],
   "source": [
    "# View size\n",
    "plot_boundary = (20, 20)\n",
    "\n",
    "# Generate 10 plots of walking\n",
    "for n in range(num_experiments):\n",
    "    ax = None\n",
    "    ax = plot_position2d(\n",
    "        select_exp(levy_exp, n),\n",
    "        boundary=plot_boundary,\n",
    "        label=f\"Levy\",\n",
    "        color=\"purple\",\n",
    "        alpha=0.6,\n",
    "        ax=ax,\n",
    "    )\n",
    "    ax = plot_position2d(\n",
    "        select_exp(diffusion_exp, n),\n",
    "        boundary=plot_boundary,\n",
    "        label=f\"Diffusion\",\n",
    "        title=f\"Experiment {n}\",\n",
    "        color=\"brown\",\n",
    "        alpha=0.6,\n",
    "        ax=ax,\n",
    "    )"
   ]
  },
  {
   "source": [
    "### Question 1.1\n",
    "Based on these 10 example experiments please describe how similar or different the Levy and diffusion search strategies seem to be? Visually, that is. Can you tell the difference between them in _all_ 10 examples?\n",
    "\n",
    "_Note_: Don't be afraid to change the _plot boundary_ to zoom in or out. "
   ],
   "cell_type": "markdown",
   "metadata": {}
  },
  {
   "cell_type": "code",
   "execution_count": null,
   "metadata": {},
   "outputs": [],
   "source": [
    "# Write your answer here, as a comment"
   ]
  },
  {
   "source": [
    "Create one distribution for all Levy walks, and one distribution and plot them together. First plot the distributions, the plot them in log-log space. AKA the space in which power laws, like the Levy $p(l) = 1 / l^{\\mu}$, are easiest to identify. "
   ],
   "cell_type": "markdown",
   "metadata": {}
  },
  {
   "cell_type": "code",
   "execution_count": null,
   "metadata": {},
   "outputs": [],
   "source": [
    "ax = None\n",
    "ax = plot_length_hist(\n",
    "    levy_exp,\n",
    "    loglog=False,\n",
    "    bins=60,\n",
    "    density=True,\n",
    "    alpha=0.6,\n",
    "    label=\"Levy\",\n",
    "    color=\"purple\",\n",
    "    ax=ax,\n",
    "    figsize=(6,4),\n",
    ")\n",
    "ax = plot_length_hist(\n",
    "    diffusion_exp,\n",
    "    loglog=False,\n",
    "    bins=50,\n",
    "    density=True,\n",
    "    alpha=0.6,\n",
    "    color=\"brown\",\n",
    "    label=\"Diffusion\",\n",
    "    ax=ax,\n",
    ")\n",
    "sns.despine() # Make pretty plot"
   ]
  },
  {
   "source": [
    "- Wow, the power law is steep right!? Can you see the exponential nature of diffusion?"
   ],
   "cell_type": "markdown",
   "metadata": {}
  },
  {
   "cell_type": "code",
   "execution_count": null,
   "metadata": {},
   "outputs": [],
   "source": [
    "ax = None\n",
    "ax = plot_length_hist(\n",
    "    levy_exp,\n",
    "    loglog=True,\n",
    "    bins=60,\n",
    "    density=True,\n",
    "    alpha=0.6,\n",
    "    label=\"Levy\",\n",
    "    color=\"purple\",\n",
    "    ax=ax,\n",
    "    figsize=(6, 4),\n",
    ")\n",
    "ax = plot_length_hist(\n",
    "    diffusion_exp,\n",
    "    loglog=True,\n",
    "    bins=50,\n",
    "    density=True,\n",
    "    alpha=0.6,\n",
    "    color=\"brown\",\n",
    "    label=\"Diffusion\",\n",
    "    ax=ax,\n",
    ")\n",
    "sns.despine() # Make pretty plot"
   ]
  },
  {
   "source": [
    "### Question 1.2\n",
    "\n",
    "In\n",
    "\n",
    "> Viswanathan, G. M. et al. Optimizing the success of random searches. Nature 401, 911–914 (1999).\n",
    "\n",
    "the authors made two big claims only one of which I have paid attention too. Levy flight optimality, that is. The _other claim_ is that for dense targets the optimal search strategy is _not_ Levy, but is simple diffusion (AKA brownian motion).\n",
    "\n",
    "_Reminder_: The claim of Levy optimality holds only when the detection radius $r_v$ is much less than the average distance between targets $\\bar d$. That is, when $r_v << \\bar d$. Let's call this a sparse setting. This means that as $r_v$ approaches $\\bar d$, the problem becomes what we can call dense. Sparse and dense refer to the targets, of course.\n",
    "\n",
    "These distributions are huge hints to why Levy and diffusion are optimal, respectively, in dense and sparse settings. Can you explain why? \n",
    "\n",
    "_Hint_: Reflect on the distribution of lengths. Consider where the most \"mass\" is in each distribution. Then reflect on the two settings. Maybe make plots of each setting to help you?"
   ],
   "cell_type": "markdown",
   "metadata": {}
  },
  {
   "cell_type": "code",
   "execution_count": null,
   "metadata": {},
   "outputs": [],
   "source": [
    "# Write your answer here, as a comment"
   ]
  },
  {
   "source": [
    "### Question 1.3\n",
    "I have already claimed the ratio $r_v/\\bar{d}$ is a reasonable way to measure the difficulty of a random search problem. Where, that is, $r_v$ is the detection radius of the explorer and $\\bar d$ is the average distance between targets. \n",
    "\n",
    "In theory we can change this ratio by changing $r_v$ directly or manipulate $d$ by changing the total number of targets $N$, or the size of the domain $L$. For randomly placed targets, anyway. In practice, as in the examples below, we change only $r_v$ or $N$. Can you guess the practical reason for this? Why hold $L$ fixed? (AKA the `boundary`.)"
   ],
   "cell_type": "markdown",
   "metadata": {}
  },
  {
   "cell_type": "code",
   "execution_count": null,
   "metadata": {},
   "outputs": [],
   "source": [
    "# Write your answer here, as a comment"
   ]
  },
  {
   "source": [
    "### Question 1.4\n",
    "Can you come up with a counter example where the ratio $r_v/\\bar{d}$ could be misleading, incomplete, or both?\n",
    "\n",
    "_Hint_: Try drawing out different arrangements of targets and search domains?"
   ],
   "cell_type": "markdown",
   "metadata": {}
  },
  {
   "cell_type": "code",
   "execution_count": null,
   "metadata": {},
   "outputs": [],
   "source": [
    "# Write your answer here, as a comment"
   ]
  },
  {
   "source": [
    "### Question 1.5\n",
    "\n",
    "I have claimed the ratio $N_t / \\bar l$ is a reasonable way to measure how global or local a search is. Where, that is, $N_t$ number of turns and $\\bar l $ is the average length travel. \n",
    "\n",
    "Examine the plot below, in light of this claim. How global or local are levy and diffusion searches in comparison to each other? Why does the levy explorer have so many more turns?\n",
    "\n",
    "_Hint_: For a hint on the turn number count question, look at the distributions from the previous section. \n"
   ],
   "cell_type": "markdown",
   "metadata": {}
  },
  {
   "cell_type": "code",
   "execution_count": null,
   "metadata": {},
   "outputs": [],
   "source": [
    "ax = None\n",
    "ax = plot_length(\n",
    "    select_exp(levy_exp, 0),\n",
    "    label=\"Levy\",\n",
    "    color=\"purple\",\n",
    "    alpha=0.7,\n",
    "    figsize=(8, 3),\n",
    "    ax=ax,\n",
    ")\n",
    "ax = plot_length(\n",
    "    select_exp(diffusion_exp, 0),\n",
    "    label=\"Diffusion\",\n",
    "    color=\"brown\",\n",
    "    alpha=0.7,\n",
    "    ax=ax,\n",
    ")"
   ]
  },
  {
   "cell_type": "code",
   "execution_count": null,
   "metadata": {},
   "outputs": [],
   "source": [
    "# Write your two answers here, as seperate comments"
   ]
  },
  {
   "source": [
    "## Section 2 - a competition in exploration\n",
    "\n",
    "As a demo for the questions to come, run our two explorerers on the same environment, 100 times."
   ],
   "cell_type": "markdown",
   "metadata": {}
  },
  {
   "cell_type": "code",
   "execution_count": null,
   "metadata": {},
   "outputs": [],
   "source": [
    "# Experiment settings\n",
    "num_experiments = 100\n",
    "num_steps = 10000\n",
    "num_targets = 500\n",
    "step_size = 0.1\n",
    "detection_radius = 2\n",
    "\n",
    "# Speed up the search; use TruncatedLevy2d\n",
    "min_length = 0.5\n",
    "\n",
    "# Env\n",
    "env = Field()\n",
    "\n",
    "# Targets\n",
    "target_boundary = (50, 50)\n",
    "targets = uniform_targets(num_targets, target_boundary)\n",
    "values = constant_values(targets, 1)\n",
    "env.add_targets(targets, values, detection_radius=detection_radius)\n",
    "\n",
    "# Agents\n",
    "brown = Diffusion2d(min_length=min_length,\n",
    "                          scale=.1,\n",
    "                          detection_radius=detection_radius, step_size=step_size)\n",
    "levy2 = Levy2d(min_length=min_length,\n",
    "                              exponent=2,\n",
    "                              detection_radius=detection_radius, step_size=step_size)\n",
    "\n",
    "# Cleanup \n",
    "for path in glob.glob(f\"{base_name}_*.pkl\"):\n",
    "    os.remove(path)\n",
    "\n",
    "# !\n",
    "levy_exp = experiment(\n",
    "    f\"{base_name}_levy_2.pkl\", \n",
    "    levy2,\n",
    "    env,\n",
    "    num_steps=num_steps,\n",
    "    num_experiments=num_experiments,\n",
    "    dump=False,\n",
    ")\n",
    "diffusion_exp = experiment(\n",
    "    f\"{base_name}_diffusion_2.pkl\", \n",
    "    brown,\n",
    "    env,\n",
    "    num_steps=num_steps,\n",
    "    num_experiments=num_experiments,\n",
    "    dump=False,\n",
    ")"
   ]
  },
  {
   "source": [
    "Plot an experiment, if you want. "
   ],
   "cell_type": "markdown",
   "metadata": {}
  },
  {
   "cell_type": "code",
   "execution_count": null,
   "metadata": {},
   "outputs": [],
   "source": [
    "num_experiment = 1  # Which exp to plot?\n",
    "plot_boundary = (50, 50) # View size\n",
    "\n",
    "ax = plot_position2d(\n",
    "    select_exp(levy_exp, num_experiment),\n",
    "    boundary=plot_boundary,\n",
    "    label=\"Levy\",\n",
    "    color=\"purple\",\n",
    "    alpha=0.6,\n",
    "    figsize=(3, 3),\n",
    ")\n",
    "ax = plot_position2d(\n",
    "    select_exp(diffusion_exp, num_experiment),\n",
    "    boundary=plot_boundary,\n",
    "    label=\"Brownian\",\n",
    "    color=\"brown\",\n",
    "    alpha=0.6,\n",
    "    ax=ax,\n",
    ")\n",
    "ax = plot_targets2d(\n",
    "    env,\n",
    "    boundary=plot_boundary,\n",
    "    color=\"black\",\n",
    "    alpha=1,\n",
    "    label=\"Targets\",\n",
    "    ax=ax,\n",
    ")"
   ]
  },
  {
   "cell_type": "code",
   "execution_count": null,
   "metadata": {},
   "outputs": [],
   "source": [
    "ax = None\n",
    "ax = plot_length_hist(\n",
    "    select_exp(levy_exp, num_experiment),\n",
    "    loglog=True,\n",
    "    bins=60,\n",
    "    density=True,\n",
    "    alpha=0.6,\n",
    "    label=\"Levy\",\n",
    "    color=\"purple\",\n",
    "    ax=ax,\n",
    "    figsize=(6, 4),\n",
    ")\n",
    "ax = plot_length_hist(\n",
    "    select_exp(diffusion_exp, num_experiment),\n",
    "    loglog=True,\n",
    "    bins=50,\n",
    "    density=True,\n",
    "    alpha=0.6,\n",
    "    color=\"brown\",\n",
    "    label=\"Diffusion\",\n",
    "    ax=ax,\n",
    ")\n",
    "sns.despine() # Make pretty plot"
   ]
  },
  {
   "source": [
    "Get efficiciecy for all experiments"
   ],
   "cell_type": "markdown",
   "metadata": {}
  },
  {
   "cell_type": "code",
   "execution_count": null,
   "metadata": {},
   "outputs": [],
   "source": [
    "# Results, names, and colors\n",
    "results = [levy_exp, diffusion_exp]\n",
    "names = [\"Levy\", \"Diffusion\"]\n",
    "colors = [\"purple\", \"brown\"]\n",
    "\n",
    "# Score by eff\n",
    "scores = []\n",
    "for name, res, color in zip(names, results, colors):\n",
    "    r = search_efficiency(res)\n",
    "    scores.append(r)   "
   ]
  },
  {
   "source": [
    "Plot distributions"
   ],
   "cell_type": "markdown",
   "metadata": {}
  },
  {
   "cell_type": "code",
   "execution_count": null,
   "metadata": {},
   "outputs": [],
   "source": [
    "for (name, s, c) in zip(names, scores, colors):\n",
    "    plt.hist(s, label=name, color=c, alpha=0.5, bins=20)\n",
    "    plt.legend()\n",
    "    plt.xlabel(\"Score\")\n",
    "    plt.tight_layout()\n",
    "    sns.despine()"
   ]
  },
  {
   "source": [
    "Plot averages"
   ],
   "cell_type": "markdown",
   "metadata": {}
  },
  {
   "cell_type": "code",
   "execution_count": null,
   "metadata": {},
   "outputs": [],
   "source": [
    "# Tabulate\n",
    "m, sd = [], []\n",
    "for (name, s, c) in zip(names, scores, colors):\n",
    "    m.append(np.mean(s))\n",
    "    sd.append(np.std(s))\n",
    "\n",
    "# Plot\n",
    "fig = plt.figure(figsize=(3, 3))\n",
    "plt.bar(names, m, yerr=sd, color=\"black\", alpha=0.6)\n",
    "plt.ylabel(\"Score\")\n",
    "plt.tight_layout()\n",
    "sns.despine()"
   ]
  },
  {
   "source": [
    "### Question 2.1\n",
    "Vary the _detection radius_ parameter (what I have been calling $r_v$) beginning with 2.0 and ending around 0.25, in 5 or so increments. For each increment, make a histogram of the search efficiencies for both Levy and diffusion search. The code above will help you get started.\n",
    "\n",
    "Before you write the code, first write out what you expect to happen as $r_v$ decreases. Your hypothesis based on what you have been told so far.\n",
    "\n",
    "For each increment which method has higher efficiency, and how much do the two distributions seem to overlap?\n",
    "\n",
    "_Warning:_ This may take a while to run. "
   ],
   "cell_type": "markdown",
   "metadata": {}
  },
  {
   "cell_type": "code",
   "execution_count": null,
   "metadata": {},
   "outputs": [],
   "source": [
    "# Write your hypothesis here"
   ]
  },
  {
   "cell_type": "code",
   "execution_count": null,
   "metadata": {},
   "outputs": [],
   "source": [
    "# Write your code here"
   ]
  },
  {
   "cell_type": "code",
   "execution_count": null,
   "metadata": {},
   "outputs": [],
   "source": [
    "# Interpret the results from your code here"
   ]
  },
  {
   "source": [
    "### Bonus question:\n",
    "Repeat the first question in the section again, this time varying the _num targets_ instead. Try halving the number. Then doubling it. Are the results very different from when you varied the _detection radius_?"
   ],
   "cell_type": "markdown",
   "metadata": {}
  },
  {
   "cell_type": "code",
   "execution_count": null,
   "metadata": {},
   "outputs": [],
   "source": [
    "# Write your code here"
   ]
  },
  {
   "cell_type": "code",
   "execution_count": null,
   "metadata": {},
   "outputs": [],
   "source": [
    "# Write your answer here"
   ]
  }
 ]
}