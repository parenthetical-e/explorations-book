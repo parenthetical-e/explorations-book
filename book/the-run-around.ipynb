{
 "cells": [
  {
   "cell_type": "markdown",
   "metadata": {
    "lines_to_next_cell": 0
   },
   "source": [
    "Walk around/run around/fly around\n",
    "\n",
    "In this chapter we dill discuss the simplest method of exploration -- random searching. In some circumstance's we'll see random exploration is the best we can do, leading to some optimality claims. We decsribe what is optimal when, and review how animals actually behave. Examples both inline with, and contrary to, what the math says is best.\n",
    "\n",
    "# Diffusion, Lévy flights, and patches."
   ]
  },
  {
   "cell_type": "code",
   "execution_count": null,
   "metadata": {},
   "outputs": [],
   "source": [
    "from explorationlib.run import experiment\n",
    "from explorationlib import gym\n",
    "from explorationlib import agent\n",
    "from explorationlib.util import load\n",
    "from explorationlib.util import save\n",
    "\n",
    "import numpy as np\n",
    "import matplotlib\n",
    "import matplotlib.pyplot as plt\n",
    "\n",
    "%matplotlib inline\n",
    "%load_ext nb_black"
   ]
  },
  {
   "cell_type": "code",
   "execution_count": null,
   "metadata": {},
   "outputs": [],
   "source": [
    "env = gym.Field()\n",
    "brown = agent.Diffusion2d(scale=1 / 2)\n",
    "levy = agent.Levy2d(exponent=3)"
   ]
  },
  {
   "cell_type": "code",
   "execution_count": null,
   "metadata": {},
   "outputs": [],
   "source": [
    "experiment(\"levy.pkl\", levy, env, num_steps=100, num_experiments=1)\n",
    "experiment(\"brown.pkl\", brown, env, num_steps=100, num_experiments=1)\n",
    "\n",
    "levy_exp = load(\"levy.pkl\")\n",
    "brown_exp = load(\"brown.pkl\")\n",
    "\n",
    "levy_l = np.asarray(levy_exp[\"agent_history\"][\"l\"])\n",
    "levy_state = np.vstack(levy_exp[\"state\"])\n",
    "\n",
    "brown_l = np.asarray(brown_exp[\"agent_history\"][\"l\"])\n",
    "brown_state = np.vstack(brown_exp[\"state\"])"
   ]
  },
  {
   "cell_type": "code",
   "execution_count": null,
   "metadata": {},
   "outputs": [],
   "source": [
    "np.random.uniform()"
   ]
  },
  {
   "cell_type": "code",
   "execution_count": null,
   "metadata": {},
   "outputs": [],
   "source": [
    "domain = 50\n",
    "\n",
    "plt.figure(figsize=(10, 4))\n",
    "plt.subplot(121)\n",
    "plt.title(\"Levy\")\n",
    "plt.plot(levy_state[:, 0], levy_state[:, 1], color=\"black\")\n",
    "plt.xlim(-domain, domain)\n",
    "plt.ylim(-domain, domain)\n",
    "\n",
    "plt.subplot(122)\n",
    "plt.title(\"Brownian\")\n",
    "plt.plot(brown_state[:, 0], brown_state[:, 1], color=\"black\")\n",
    "plt.xlim(-domain, domain)\n",
    "plt.ylim(-domain, domain)"
   ]
  },
  {
   "cell_type": "code",
   "execution_count": null,
   "metadata": {},
   "outputs": [],
   "source": [
    "plt.figure(figsize=(10, 4))\n",
    "plt.subplot(121)\n",
    "plt.title(\"Levy\")\n",
    "_ = plt.hist(levy_l, color=\"black\")\n",
    "\n",
    "plt.subplot(122)\n",
    "plt.title(\"Brownian\")\n",
    "_ = plt.hist(brown_l, color=\"black\")"
   ]
  },
  {
   "cell_type": "code",
   "execution_count": null,
   "metadata": {},
   "outputs": [],
   "source": []
  }
 ],
 "metadata": {
  "jupytext": {
   "cell_metadata_filter": "-all",
   "encoding": "# -*- coding: utf-8 -*-",
   "main_language": "python",
   "notebook_metadata_filter": "-all"
  }
 },
 "nbformat": 4,
 "nbformat_minor": 2
}