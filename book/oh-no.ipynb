{
 "metadata": {
  "language_info": {
   "codemirror_mode": {
    "name": "ipython",
    "version": 3
   },
   "file_extension": ".py",
   "mimetype": "text/x-python",
   "name": "python",
   "nbconvert_exporter": "python",
   "pygments_lexer": "ipython3",
   "version": "3.6.7-final"
  },
  "orig_nbformat": 2,
  "kernelspec": {
   "name": "python3",
   "display_name": "Python 3.6.7 64-bit ('py3.6': conda)",
   "metadata": {
    "interpreter": {
     "hash": "5c0fa7a4f8f1487a2aac67eb43e7b2e553808a81f9be50af9e1ab194481cfe22"
    }
   }
  }
 },
 "nbformat": 4,
 "nbformat_minor": 2,
 "cells": [
  {
   "source": [
    "# Oh no! - Lab\n",
    "\n",
    "...Our dilemma, and three ways to reward \n",
    "\n",
    "In this assignment we study exploration, with a cliff. We will take advantage of the simulator in _The Paths Perspective on Value Learning_ to ask some basic but important questions about how learning rules, and exploration interact. \n",
    "\n",
    "Link: https://distill.pub/2019/paths-perspective-on-value-learning/\n",
    "\n",
    "The learning rate $\\alpha$ is fixed. All we can control is the degree of exploration ($\\epsilon$), with a nice little slider.\n",
    "\n",
    "Our agents of interest are Monte Carlo, SARSA, and Q-learning. These are our three ways to the most reward.\n",
    "\n",
    "The lab has two sections. \n",
    "\n",
    "- _First_ I quiz you with questions about both S & B, and the text in _The Paths Perspective on Value Learning_, and how they relate.\n",
    "\n",
    "- _Second_, is where we simulate exploration-exploitation and see how the same set of choices lead to quite different learning and interpretations of the same experiences (aka transition sets)."
   ],
   "cell_type": "markdown",
   "metadata": {}
  },
  {
   "source": [
    "## Section 1 - Oh no, a quiz!\n",
    "\n",
    "#### Question 1.1\n",
    "Like they did in S & B in Section 1, diagram out a tree diagram and planning route for the Cliff World, starting from the bottom left position.  Do this on a separate piece of paper, which you will take a picture of and upload later. Start off drawing out the game board, then imagine taking a random move, and write the tree of available choices. Keep going until you map out all the ways to get to the winning \"+2\" grid box.\n",
    "\n",
    "(_Note_: write small?)"
   ],
   "cell_type": "markdown",
   "metadata": {}
  },
  {
   "cell_type": "code",
   "execution_count": null,
   "metadata": {},
   "outputs": [],
   "source": [
    "# (Upload your sketch on Canvas)"
   ]
  },
  {
   "source": [
    "#### Question 1.2\n",
    "Looking at the game \"from above\", when you can see all the paths at once, as it is shown in the article, makes the game look simple. After diagramming above, does the cliff game seem different to you? How challenging a game is for our agents."
   ],
   "cell_type": "markdown",
   "metadata": {}
  },
  {
   "cell_type": "code",
   "execution_count": null,
   "metadata": {},
   "outputs": [],
   "source": [
    "# Write your answer here as a comment. Explain yourself."
   ]
  },
  {
   "source": [
    "#### Question 1.3\n",
    "\n",
    "Put another way--how would you change the state representation to learn more of a \"birds eye view\", like the one you have when reading. Think about alternatives to state-as-a-single-location perhaps?"
   ],
   "cell_type": "markdown",
   "metadata": {}
  },
  {
   "cell_type": "code",
   "execution_count": null,
   "metadata": {},
   "outputs": [],
   "source": [
    "# Write your answer here as a comment. Explain yourself."
   ]
  },
  {
   "source": [
    "#### Question 1.4\n",
    "\n",
    "Discuss the difficulties your proposal in the last question might face? Computational explosions? Time limits? Bias? Tell me a downside or cost to your approach, and if you can how you might change things to overcome that?"
   ],
   "cell_type": "markdown",
   "metadata": {}
  },
  {
   "cell_type": "code",
   "execution_count": null,
   "metadata": {},
   "outputs": [],
   "source": [
    "# Write your answer here as a comment. Explain yourself."
   ]
  },
  {
   "source": [
    "#### Question 1.5\n",
    "Is the exploration problem easier or harder do you think for your scheme?"
   ],
   "cell_type": "markdown",
   "metadata": {}
  },
  {
   "cell_type": "code",
   "execution_count": null,
   "metadata": {},
   "outputs": [],
   "source": [
    "# Write your answer here as a comment. Explain yourself."
   ]
  },
  {
   "source": [
    "#### Question 1.6\n",
    "Provide an example of exploration and reward learning from your experience, or from the natural world at large, that fits well into the markov decision space abstraction."
   ],
   "cell_type": "markdown",
   "metadata": {}
  },
  {
   "cell_type": "code",
   "execution_count": null,
   "metadata": {},
   "outputs": [],
   "source": [
    "# Write your answer here as a comment. Explain yourself."
   ]
  },
  {
   "source": [
    "#### Question 1.6\n",
    "Don't take my word for it. Do you, should we, buy Markov decision space as valid for biological problems en large? Should we tear down reinforcement, and start again? If so, what would we do instead? Speculate. Imagine. Half baked ideas welcome here.**\n",
    "\n",
    "**If you love this idea, please come do research with me. "
   ],
   "cell_type": "markdown",
   "metadata": {}
  },
  {
   "cell_type": "code",
   "execution_count": null,
   "metadata": {},
   "outputs": [],
   "source": [
    "# Write your answer here as a comment. Explain yourself."
   ]
  },
  {
   "source": [
    "#### Question 1.7\n",
    "In most of the class, besides the beginning, I've had us working in grid worlds, or other discrete settings. Imagine if I asked you to redraw the cliff game planning tree, but this time as an open continuous field. If I were to ask you to draw the tree from Q1.1 you quickly find it impossible. Explain why"
   ],
   "cell_type": "markdown",
   "metadata": {}
  },
  {
   "cell_type": "code",
   "execution_count": null,
   "metadata": {},
   "outputs": [],
   "source": [
    "# Write your answer here as a comment. Explain yourself."
   ]
  },
  {
   "source": [
    "#### Question 1.8\n",
    "But the world is really a continuous place, right? Describe one way a biological exploring agent might cope, and cite any evidence you know of in support of this idea. "
   ],
   "cell_type": "markdown",
   "metadata": {}
  },
  {
   "cell_type": "code",
   "execution_count": null,
   "metadata": {},
   "outputs": [],
   "source": [
    "# Write your answer here as a comment. Explain yourself."
   ]
  },
  {
   "source": [
    "#### Question 1.9\n",
    "All our agents rely on an idea called policy iteration. S & B described it at length. In your own words, explain how it operates in the cliff game. Assume in your answer the initial values V(s) for sarsa are zero. \n",
    "\n",
    "_Note_: the tree you made in Q1.1 may help you think this though. And remember we're averaging over several episodes/experiments."
   ],
   "cell_type": "markdown",
   "metadata": {}
  },
  {
   "cell_type": "code",
   "execution_count": null,
   "metadata": {},
   "outputs": [],
   "source": [
    "# Write your answer here as a comment. Explain yourself."
   ]
  },
  {
   "source": [
    "#### Question 1.10\n",
    "In the Distill article they say:\n",
    "\n",
    "> One of the key sub-problems of RL is value estimation – learning the long-term consequences of being in a state. This can be tricky because future returns are generally noisy, affected by many things other than the present state.\n",
    "\n",
    "Does this statement violate the Markov definition?"
   ],
   "cell_type": "markdown",
   "metadata": {}
  },
  {
   "cell_type": "code",
   "execution_count": null,
   "metadata": {},
   "outputs": [],
   "source": [
    "# Write your answer here as a comment. Explain yourself."
   ]
  },
  {
   "source": [
    "## Section 2 - Oh no, a cliff!\n",
    "\n",
    "Our overall aim in this section is to study and learn how to best balance explore-exploit tendencies, as well as examining how the same level of exploration leads to different learning outcomes in three different agents. \n",
    "\n",
    "Our algs of interest are Monte Carlo, SARSA, and Q-learning.\n",
    "\n",
    "Our overall metric of success in this section amounts to, “How well do we learn to play in the Cliff World?\". We will assess this by studying:\n",
    "\n",
    "1. Are the V(s) right for each grid box\n",
    "2. Are the each of the Q(s,a) right for each grid box\n",
    "3. Do the policy arrows point up “towards” the +2 winning grid box? How many go the wrong direction?\n",
    "\n",
    "_Note_: Examples of \"right\" or otherwise good answers are shown in the _Appendix_ below.    "
   ],
   "cell_type": "markdown",
   "metadata": {}
  },
  {
   "source": [
    "#### Question 2.1 \n",
    "Refresh the page. Set the explore-slider to the middle. Run 20 agents (you can do this quick by pressing the button quick). Count how many V, Q, and policy arrows are wrong. Report these numbers below separately Monte Carlo, SARSA, and Q-learning. "
   ],
   "cell_type": "markdown",
   "metadata": {}
  },
  {
   "cell_type": "code",
   "execution_count": null,
   "metadata": {},
   "outputs": [],
   "source": [
    "# Put Monte Carlo results as a comment here"
   ]
  },
  {
   "cell_type": "code",
   "execution_count": null,
   "metadata": {},
   "outputs": [],
   "source": [
    "# Put SARSA results as a comment here"
   ]
  },
  {
   "cell_type": "code",
   "execution_count": null,
   "metadata": {},
   "outputs": [],
   "source": [
    "# Put Q-learning results as a comment here"
   ]
  },
  {
   "source": [
    "#### Question 2.2\n",
    "Repeat the steps on Q1.1 but set the explore-slider far to the left. Run 20 agents (you can do this quick by pressing the button quick). Count how many V, Q, and policy arrows are wrong. Report these numbers below. "
   ],
   "cell_type": "markdown",
   "metadata": {}
  },
  {
   "cell_type": "code",
   "execution_count": null,
   "metadata": {},
   "outputs": [],
   "source": [
    "# Put Monte Carlo results as a comment here"
   ]
  },
  {
   "cell_type": "code",
   "execution_count": null,
   "metadata": {},
   "outputs": [],
   "source": [
    "# Put SARSA results as a comment here"
   ]
  },
  {
   "cell_type": "code",
   "execution_count": null,
   "metadata": {},
   "outputs": [],
   "source": [
    "# Put Q-learning results as a comment here"
   ]
  },
  {
   "source": [
    "#### Question 2.3\n",
    "Repeat the steps on Q1.1 but set the explore-slider far to the right. Run 20 agents (you can do this quick by pressing the button quick). Count how many V, Q, and policy arrows are wrong. Report these numbers below. "
   ],
   "cell_type": "markdown",
   "metadata": {}
  },
  {
   "cell_type": "code",
   "execution_count": null,
   "metadata": {},
   "outputs": [],
   "source": [
    "# Put Monte Carlo results as a comment here"
   ]
  },
  {
   "cell_type": "code",
   "execution_count": null,
   "metadata": {},
   "outputs": [],
   "source": [
    "# Put SARSA results as a comment here"
   ]
  },
  {
   "cell_type": "code",
   "execution_count": null,
   "metadata": {},
   "outputs": [],
   "source": [
    "# Put Q-learning results as a comment here"
   ]
  },
  {
   "cell_type": "code",
   "execution_count": null,
   "metadata": {},
   "outputs": [],
   "source": []
  },
  {
   "source": [
    "#### Question 2.4\n",
    "Compare and contrast the results from the three questions above this one. Which level of explore-exploit seems to be doing the best?"
   ],
   "cell_type": "markdown",
   "metadata": {}
  },
  {
   "cell_type": "code",
   "execution_count": null,
   "metadata": {},
   "outputs": [],
   "source": [
    "# Write your answer here as a comment"
   ]
  },
  {
   "source": [
    "#### Question 2.5\n",
    "Based on the results from Q2.1-2.3, choose a new position on the explore-exploit slider that you think can do better.\n",
    "\n",
    "To find out, refresh the page. Set the explore-slider where you want it. Run 20 agents (you can do this quick by pressing the button quick). Count how many V, Q, and policy arrows are wrong. Report these numbers below. "
   ],
   "cell_type": "markdown",
   "metadata": {}
  },
  {
   "cell_type": "code",
   "execution_count": null,
   "metadata": {},
   "outputs": [],
   "source": [
    "# Write the position you choose (as best you can) here"
   ]
  },
  {
   "cell_type": "code",
   "execution_count": null,
   "metadata": {},
   "outputs": [],
   "source": [
    "# Put Monte Carlo results as a comment here"
   ]
  },
  {
   "cell_type": "code",
   "execution_count": null,
   "metadata": {},
   "outputs": [],
   "source": [
    "# Put SARSA results as a comment here"
   ]
  },
  {
   "cell_type": "code",
   "execution_count": null,
   "metadata": {},
   "outputs": [],
   "source": [
    "# Put Q-learning results as a comment here"
   ]
  },
  {
   "cell_type": "code",
   "execution_count": null,
   "metadata": {},
   "outputs": [],
   "source": [
    "# Were you right? Explain why or why not here as a comment"
   ]
  },
  {
   "source": [
    "#### Question 2.6\n",
    "Consider this lab as a whole. If you had to choose one agent—Monte Carlo, SARSA, or Q-learning—as your _only_ personal learning algorithm, which would you choose?"
   ],
   "cell_type": "markdown",
   "metadata": {}
  },
  {
   "cell_type": "code",
   "execution_count": null,
   "metadata": {},
   "outputs": [],
   "source": [
    "# Write your answer here as a comment. Explain yourself."
   ]
  },
  {
   "source": [
    "## Appendix\n",
    "\n",
    "Here is an example of good or \"correct\" V values for each grid box.\n",
    "\n",
    "![Good V](https://github.com/parenthetical-e/explorations-book/blob/main/book/img/good%20v%20map.png)"
   ],
   "cell_type": "markdown",
   "metadata": {}
  },
  {
   "source": [
    "Here is an example of good or \"correct\" Q values for each grid box.\n",
    "\n",
    "![Good Q](https://github.com/parenthetical-e/explorations-book/blob/main/book/img/good%20q%20map.png)"
   ],
   "cell_type": "markdown",
   "metadata": {}
  },
  {
   "source": [
    "Here is an example of good or \"correct\" policy arrow for each grid box.\n",
    "\n",
    "![Good pi](https://github.com/parenthetical-e/explorations-book/blob/main/book/img/good%20policy%20map.png)"
   ],
   "cell_type": "markdown",
   "metadata": {}
  }
 ]
}