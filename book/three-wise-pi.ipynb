{
 "metadata": {
  "language_info": {
   "codemirror_mode": {
    "name": "ipython",
    "version": 3
   },
   "file_extension": ".py",
   "mimetype": "text/x-python",
   "name": "python",
   "nbconvert_exporter": "python",
   "pygments_lexer": "ipython3",
   "version": "3.6.7-final"
  },
  "orig_nbformat": 2,
  "kernelspec": {
   "name": "python3",
   "display_name": "Python 3.6.7 64-bit",
   "metadata": {
    "interpreter": {
     "hash": "5c0fa7a4f8f1487a2aac67eb43e7b2e553808a81f9be50af9e1ab194481cfe22"
    }
   }
  }
 },
 "nbformat": 4,
 "nbformat_minor": 2,
 "cells": [
  {
   "source": [
    "# Three wise agents - Lab\n",
    "\n",
    "In this assignment we study exploration with a cliff. We will take advantage of the simulator in _The Paths Perspective on Value Learning_ to ask some basic but important questions about how learning rules, and exploration interact. \n",
    "\n",
    "The learning rate _lr_reward_ is denoted as $\\alpha$ is fixed. All we can control is the degree of exploration ($\\epsilon$).\n",
    "\n",
    "TODO - agents and metrics\n",
    "\n",
    "The lab has two sections. \n",
    "\n",
    "- _First_ I ask you some questions about the main text in _The Paths Perspective on Value Learning_. \n",
    "- _Second_, is where we simulate exploration-exploitation and see how the same set of choices lead to quite different learning and interprertaations of the same probllem."
   ],
   "cell_type": "markdown",
   "metadata": {}
  },
  {
   "source": [
    "## Section 1 - Something about \"paths\"\n",
    "\n",
    "HERE"
   ],
   "cell_type": "markdown",
   "metadata": {}
  },
  {
   "source": [
    "#### Question 1.1 \n",
    "HERE"
   ],
   "cell_type": "markdown",
   "metadata": {}
  },
  {
   "cell_type": "code",
   "execution_count": null,
   "metadata": {},
   "outputs": [],
   "source": [
    "# Write your answer here, as a comment. Explain yourself."
   ]
  }
 ]
}