{
 "metadata": {
  "language_info": {
   "codemirror_mode": {
    "name": "ipython",
    "version": 3
   },
   "file_extension": ".py",
   "mimetype": "text/x-python",
   "name": "python",
   "nbconvert_exporter": "python",
   "pygments_lexer": "ipython3",
   "version": "3.6.7-final"
  },
  "orig_nbformat": 2,
  "kernelspec": {
   "name": "python3",
   "display_name": "Python 3"
  }
 },
 "nbformat": 4,
 "nbformat_minor": 2,
 "cells": [
  {
   "source": [
    "# Programming in python\n",
    "\n",
    "This book is about exploration in biology. Exploration is a problem that we can talk about using math, and computer simuluations. We will do so rather a lot. All the computations we play with, and play is the right word!, happen in a programming language called python. So, you will need to learn some python too, if you don't know any already.\n",
    "\n",
    "Rather than do the work twice, and write another learrnign python tutorial here. I'm sending you to another's nice work."
   ],
   "cell_type": "markdown",
   "metadata": {}
  },
  {
   "source": [],
   "cell_type": "markdown",
   "metadata": {}
  },
  {
   "source": [
    "### Assignment 1\n",
    "Read thorough sections TODO in the above. Run and play with any sections you meet that you do not think \"oh god I know this already\"\n",
    "\n"
   ],
   "cell_type": "markdown",
   "metadata": {}
  }
 ]
}