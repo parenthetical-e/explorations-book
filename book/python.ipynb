{
 "metadata": {
  "language_info": {
   "codemirror_mode": {
    "name": "ipython",
    "version": 3
   },
   "file_extension": ".py",
   "mimetype": "text/x-python",
   "name": "python",
   "nbconvert_exporter": "python",
   "pygments_lexer": "ipython3",
   "version": "3.6.7-final"
  },
  "orig_nbformat": 2,
  "kernelspec": {
   "name": "python3",
   "display_name": "Python 3"
  }
 },
 "nbformat": 4,
 "nbformat_minor": 2,
 "cells": [
  {
   "source": [
    "# Programming in python\n",
    "\n",
    "Exploration isa problem we can talk about using math, and computer simuluations. We will do so, rather a lot. All the computations we play with happen in a programming language called python. So, you will need to learn some python too, if you don't know any already.\n",
    "\n",
    "Rather than do the work twice, and write another learning python tutorial when there are already so many. I'm sending you to another's work, if you need a refresher that is. If you think you do, or if you think you do not, whatever, go and read sections 3-9 UCSD's Intro to Python class:\n",
    "\n",
    "[Cogs19](https://cogs18.github.io/intro.html)\n",
    "\n",
    "** There are various mentions and references in this online book for the last time this class was taught. They are little distracting, but material tutorial is good, so just ignore the cruft please."
   ],
   "cell_type": "markdown",
   "metadata": {}
  },
  {
   "source": [
    "### Assignment 1\n",
    "Read thorough sections 3-9. Run and play with any code examples you do not immediatly understand. Heck, even it you think you do, make sure. Try a few things. \n",
    "\n",
    "When you run into something you do not understand, ask a friend. Ask the instructor. This is your chance before we dive deep into simulations to get your python ducks in a line. I suggest you use it.\n",
    "\n",
    "For reference, I skimmed through all the sections in about 40 minutes. So if you really do know python this is aa breeze."
   ],
   "cell_type": "markdown",
   "metadata": {}
  },
  {
   "source": [
    "_Note:_ Examples in this book are written and tested in python 3.6 or 3.7. You can use a later version, but any bugs or issues that result are assumed to be enterily your problem. \n",
    "\n",
    "I suggest you run the examples in an online environment, like Google's collab, which means you won't have to worry about versions, installs, and so on. Life is, after all, far too short for IT work, when there is science to do!"
   ],
   "cell_type": "markdown",
   "metadata": {}
  },
  {
   "cell_type": "code",
   "execution_count": null,
   "metadata": {},
   "outputs": [],
   "source": []
  }
 ]
}