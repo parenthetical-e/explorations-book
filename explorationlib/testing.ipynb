{
 "cells": [
  {
   "cell_type": "markdown",
   "metadata": {},
   "source": [
    "# Testing\n",
    "\n",
    "A large-ish notebook that does some, mostly qualitative, testing of various _explorationlib_ functions.\n",
    "\n",
    "### Shared imports"
   ]
  },
  {
   "cell_type": "code",
   "execution_count": 1,
   "metadata": {},
   "outputs": [],
   "source": [
    "import numpy as np\n",
    "import pandas as pd\n",
    "import matplotlib.pyplot as plt\n",
    "import seaborn as sns\n",
    "\n",
    "from explorationlib import agent\n",
    "from explorationlib import local_gym as gym\n",
    "\n",
    "from explorationlib.run import experiment\n",
    "from explorationlib.util import select_exp\n",
    "from explorationlib.util import load\n",
    "from explorationlib.util import save\n",
    "\n",
    "from explorationlib.plot import plot_position2d\n",
    "from explorationlib.plot import plot_length_hist\n",
    "from explorationlib.plot import plot_length\n",
    "from explorationlib.plot import plot_targets2d\n",
    "\n",
    "from explorationlib.score import summary2d\n",
    "from explorationlib.score import search_efficient\n",
    "from explorationlib.score import average_reward\n",
    "from explorationlib.score import turn_ratio"
   ]
  },
  {
   "cell_type": "markdown",
   "metadata": {},
   "source": [
    "### Config notebook"
   ]
  },
  {
   "cell_type": "code",
   "execution_count": 2,
   "metadata": {},
   "outputs": [
    {
     "data": {
      "application/javascript": [
       "\n",
       "            setTimeout(function() {\n",
       "                var nbb_cell_id = 2;\n",
       "                var nbb_unformatted_code = \"%matplotlib inline\\n%load_ext nb_black\\n%config InlineBackend.figure_format='retina'\\n%config IPCompleter.greedy=True\\n%load_ext autoreload\\n%autoreload 2\\n\\nplt.rcParams[\\\"axes.facecolor\\\"] = \\\"white\\\"\\nplt.rcParams[\\\"figure.facecolor\\\"] = \\\"white\\\"\";\n",
       "                var nbb_formatted_code = \"%matplotlib inline\\n%load_ext nb_black\\n%config InlineBackend.figure_format='retina'\\n%config IPCompleter.greedy=True\\n%load_ext autoreload\\n%autoreload 2\\n\\nplt.rcParams[\\\"axes.facecolor\\\"] = \\\"white\\\"\\nplt.rcParams[\\\"figure.facecolor\\\"] = \\\"white\\\"\";\n",
       "                var nbb_cells = Jupyter.notebook.get_cells();\n",
       "                for (var i = 0; i < nbb_cells.length; ++i) {\n",
       "                    if (nbb_cells[i].input_prompt_number == nbb_cell_id) {\n",
       "                        if (nbb_cells[i].get_text() == nbb_unformatted_code) {\n",
       "                             nbb_cells[i].set_text(nbb_formatted_code);\n",
       "                        }\n",
       "                        break;\n",
       "                    }\n",
       "                }\n",
       "            }, 500);\n",
       "            "
      ],
      "text/plain": [
       "<IPython.core.display.Javascript object>"
      ]
     },
     "metadata": {},
     "output_type": "display_data"
    }
   ],
   "source": [
    "%matplotlib inline\n",
    "%load_ext nb_black\n",
    "%config InlineBackend.figure_format='retina'\n",
    "%config IPCompleter.greedy=True\n",
    "%load_ext autoreload\n",
    "%autoreload 2\n",
    "\n",
    "plt.rcParams[\"axes.facecolor\"] = \"white\"\n",
    "plt.rcParams[\"figure.facecolor\"] = \"white\""
   ]
  },
  {
   "cell_type": "markdown",
   "metadata": {},
   "source": [
    "# Test - random search agents - 1\n",
    "- First use the `gym.Field`, an open space. Verify the step length distributions, and qualitative behave/position data"
   ]
  },
  {
   "cell_type": "code",
   "execution_count": null,
   "metadata": {},
   "outputs": [],
   "source": [
    "env = gym.Field()\n",
    "\n",
    "brown = agent.Diffusion2d(scale=1)\n",
    "levy = agent.Levy2d(exponent=2)\n",
    "uniform = agent.Uniform2d(scale=1)"
   ]
  },
  {
   "cell_type": "code",
   "execution_count": null,
   "metadata": {},
   "outputs": [],
   "source": [
    "# How long to run? Longer is better, but slower.\n",
    "num_steps = 5000\n",
    "\n",
    "# !\n",
    "experiment(\"data/uniform.pkl\", uniform, env, num_steps=num_steps, num_experiments=1)\n",
    "experiment(\"data/levy.pkl\", levy, env, num_steps=num_steps, num_experiments=1)\n",
    "experiment(\"data/brown.pkl\", brown, env, num_steps=num_steps, num_experiments=1)\n",
    "\n",
    "# Load the results\n",
    "levy_exp = load(\"data/levy.pkl\")\n",
    "brown_exp = load(\"data/brown.pkl\")\n",
    "uni_exp = load(\"data/uniform.pkl\")"
   ]
  },
  {
   "cell_type": "markdown",
   "metadata": {},
   "source": [
    "### show available data from the experiment"
   ]
  },
  {
   "cell_type": "code",
   "execution_count": null,
   "metadata": {},
   "outputs": [],
   "source": [
    "levy_exp.keys()"
   ]
  },
  {
   "cell_type": "markdown",
   "metadata": {},
   "source": [
    "### plot position data"
   ]
  },
  {
   "cell_type": "code",
   "execution_count": null,
   "metadata": {},
   "outputs": [],
   "source": [
    "boundary = (100, 100)\n",
    "\n",
    "plot_position2d(uni_exp, boundary=boundary, title=\"Uniform\", alpha=1)\n",
    "plot_position2d(brown_exp, boundary=boundary, title=\"Brownian\", alpha=1)\n",
    "plot_position2d(levy_exp, boundary=boundary, title=\"Levy\", alpha=1)"
   ]
  },
  {
   "cell_type": "markdown",
   "metadata": {},
   "source": [
    "### plot step length distributions\n",
    "\n",
    "- _Uniform_ should be flat\n",
    "- _Diffusion_ should look like a exponential curve\n",
    "- _Levy_ should be a very steep curve, a power law"
   ]
  },
  {
   "cell_type": "code",
   "execution_count": null,
   "metadata": {},
   "outputs": [],
   "source": [
    "ax_u = plot_length_hist(uni_exp, title=\"Uniform\", loglog=False, bins=50, density=True, alpha=1)\n",
    "ax_b = plot_length_hist(\n",
    "    brown_exp, title=\"Brownian\", loglog=False, bins=50, density=True, alpha=1\n",
    ")\n",
    "ax_l = plot_length_hist(levy_exp, title=\"Levy\", loglog=False, bins=60, density=True, alpha=1)"
   ]
  },
  {
   "cell_type": "markdown",
   "metadata": {},
   "source": [
    "### plot loglog length distributions\n",
    "\n",
    "- _Uniform_ should be flat(ish) still\n",
    "- _Diffusion_ should drop of quick for large l\n",
    "- _Levy_ should be a downward going straight line"
   ]
  },
  {
   "cell_type": "code",
   "execution_count": null,
   "metadata": {},
   "outputs": [],
   "source": [
    "ax_u = plot_length_hist(uni_exp, title=\"Uniform\", loglog=True, bins=50, density=True, alpha=1)\n",
    "ax_b = plot_length_hist(\n",
    "    brown_exp, title=\"Brownian\", loglog=True, bins=50, density=True, alpha=1\n",
    ")\n",
    "ax_l = plot_length_hist(levy_exp, title=\"Levy\", loglog=True, bins=60, density=True, alpha=1)"
   ]
  },
  {
   "cell_type": "markdown",
   "metadata": {},
   "source": [
    "# Test - random search agents - 2\n",
    "- Next use the `gym.Field` with various (bounded) target distributions. Verify target gathering performance across agents."
   ]
  },
  {
   "cell_type": "code",
   "execution_count": null,
   "metadata": {},
   "outputs": [],
   "source": [
    "%load_ext autoreload\n",
    "%autoreload 2"
   ]
  },
  {
   "cell_type": "code",
   "execution_count": null,
   "metadata": {},
   "outputs": [],
   "source": [
    "target_boundary = (10, 10)\n",
    "dense_targets = gym.uniform_targets(100, target_boundary)\n",
    "dense_values = gym.constant_values(dense_targets, 1)\n",
    "sparse_targets = gym.uniform_targets(10, target_boundary)\n",
    "sparse_values = gym.constant_values(sparse_targets, 1)"
   ]
  },
  {
   "cell_type": "markdown",
   "metadata": {},
   "source": [
    "Targets should be bound within (-10, 10)"
   ]
  },
  {
   "cell_type": "code",
   "execution_count": null,
   "metadata": {},
   "outputs": [],
   "source": [
    "np.vstack(dense_targets).min(), np.vstack(dense_targets).max()"
   ]
  },
  {
   "cell_type": "markdown",
   "metadata": {},
   "source": [
    "Values should be 1"
   ]
  },
  {
   "cell_type": "code",
   "execution_count": null,
   "metadata": {},
   "outputs": [],
   "source": [
    "dense_values"
   ]
  },
  {
   "cell_type": "markdown",
   "metadata": {},
   "source": [
    "Load agents, and the envs"
   ]
  },
  {
   "cell_type": "code",
   "execution_count": null,
   "metadata": {},
   "outputs": [],
   "source": [
    "radius = 0.1  # r_v : detection radius\n",
    "\n",
    "dense_env = gym.Field()\n",
    "dense_env.add_targets(dense_targets, dense_values, detection_radius=radius)\n",
    "\n",
    "sparse_env = gym.Field()\n",
    "sparse_env.add_targets(sparse_targets, sparse_values, detection_radius=radius)"
   ]
  },
  {
   "cell_type": "markdown",
   "metadata": {},
   "source": [
    "Plot the targets"
   ]
  },
  {
   "cell_type": "code",
   "execution_count": null,
   "metadata": {},
   "outputs": [],
   "source": [
    "plot_targets2d(dense_env, boundary=target_boundary, title=\"Dense\")\n",
    "plot_targets2d(sparse_env, boundary=target_boundary, title=\"Sparse\")"
   ]
  },
  {
   "cell_type": "markdown",
   "metadata": {},
   "source": [
    "### Run 25 experiments\n",
    "For both _Dense_ and _Sparse_ each with `num_steps`."
   ]
  },
  {
   "cell_type": "code",
   "execution_count": null,
   "metadata": {},
   "outputs": [],
   "source": [
    "num_experiments = 20\n",
    "num_steps = 5000\n",
    "\n",
    "brown = agent.Diffusion2d(scale=1)\n",
    "levy2 = agent.Levy2d(exponent=2)\n",
    "levy3 = agent.Levy2d(exponent=3)\n",
    "uni = agent.Uniform2d(scale=0.1)"
   ]
  },
  {
   "cell_type": "code",
   "execution_count": null,
   "metadata": {},
   "outputs": [],
   "source": [
    "experiment(\n",
    "    f\"data/dense_uniform.pkl\",\n",
    "    uniform,\n",
    "    dense_env,\n",
    "    num_steps=num_steps,\n",
    "    num_experiments=num_experiments,\n",
    ")\n",
    "experiment(\n",
    "    f\"data/dense_levy2.pkl\",\n",
    "    levy2,\n",
    "    dense_env,\n",
    "    num_steps=num_steps,\n",
    "    num_experiments=num_experiments,\n",
    ")\n",
    "experiment(\n",
    "    f\"data/dense_levy3.pkl\",\n",
    "    levy3,\n",
    "    dense_env,\n",
    "    num_steps=num_steps,\n",
    "    num_experiments=num_experiments,\n",
    ")\n",
    "experiment(\n",
    "    f\"data/dense_brown.pkl\",\n",
    "    brown,\n",
    "    dense_env,\n",
    "    num_steps=num_steps,\n",
    "    num_experiments=num_experiments,\n",
    ")"
   ]
  },
  {
   "cell_type": "code",
   "execution_count": null,
   "metadata": {},
   "outputs": [],
   "source": [
    "experiment(\n",
    "    f\"data/sparse_uniform.pkl\",\n",
    "    uniform,\n",
    "    sparse_env,\n",
    "    num_steps=num_steps,\n",
    "    num_experiments=num_experiments,\n",
    ")\n",
    "experiment(\n",
    "    f\"data/sparse_levy2.pkl\",\n",
    "    levy2,\n",
    "    sparse_env,\n",
    "    num_steps=num_steps,\n",
    "    num_experiments=num_experiments,\n",
    ")\n",
    "experiment(\n",
    "    f\"data/sparse_levy3.pkl\",\n",
    "    levy3,\n",
    "    sparse_env,\n",
    "    num_steps=num_steps,\n",
    "    num_experiments=num_experiments,\n",
    ")\n",
    "experiment(\n",
    "    f\"data/sparse_brown.pkl\",\n",
    "    brown,\n",
    "    sparse_env,\n",
    "    num_steps=num_steps,\n",
    "    num_experiments=num_experiments,\n",
    ")"
   ]
  },
  {
   "cell_type": "markdown",
   "metadata": {},
   "source": [
    "### Load the results"
   ]
  },
  {
   "cell_type": "code",
   "execution_count": null,
   "metadata": {},
   "outputs": [],
   "source": [
    "uni_dense = load(\"data/dense_uniform.pkl\")\n",
    "levy2_dense = load(\"data/dense_levy2.pkl\")\n",
    "levy3_dense = load(\"data/dense_levy3.pkl\")\n",
    "brown_dense = load(\"data/dense_brown.pkl\")\n",
    "\n",
    "uni_sparse = load(\"data/sparse_uniform.pkl\")\n",
    "levy2_sparse = load(\"data/sparse_levy2.pkl\")\n",
    "levy3_sparse = load(\"data/sparse_levy3.pkl\")\n",
    "brown_sparse = load(\"data/sparse_brown.pkl\")"
   ]
  },
  {
   "cell_type": "markdown",
   "metadata": {},
   "source": [
    "### _Dense_ results. \n",
    "Bigger mean reward is better"
   ]
  },
  {
   "cell_type": "code",
   "execution_count": null,
   "metadata": {},
   "outputs": [],
   "source": [
    "print(f\"Uniform {summary2d(uni_dense)}\")\n",
    "print(f\"Levy u=2 {summary2d(levy2_dense)}\")\n",
    "print(f\"Levy u=3 {summary2d(levy3_dense)}\")\n",
    "print(f\"Diffusion {summary2d(brown_dense)}\")"
   ]
  },
  {
   "cell_type": "markdown",
   "metadata": {},
   "source": [
    "### _Sparse_ results. "
   ]
  },
  {
   "cell_type": "code",
   "execution_count": null,
   "metadata": {},
   "outputs": [],
   "source": [
    "print(f\"Uniform {summary2d(uni_sparse)}\")\n",
    "print(f\"Levy u=2 {summary2d(levy2_sparse)}\")\n",
    "print(f\"Levy u=3 {summary2d(levy3_sparse)}\")\n",
    "print(f\"Diffusion {summary2d(brown_sparse)}\")"
   ]
  },
  {
   "cell_type": "markdown",
   "metadata": {},
   "source": [
    "# Test - random search agents - 3\n",
    "## Scan the Levy exponent\n",
    "For sparse renewing targets, small detection radius, a classic ressult is optimal search eff at u=2. Prove that holds.\n",
    "\n",
    "Params take from (as much as possible):\n",
    "\n",
    "> Viswanathan, G. M. et al. Optimizing the success of random searches. Nature 401, 911–914 (1999)."
   ]
  },
  {
   "cell_type": "code",
   "execution_count": 9,
   "metadata": {},
   "outputs": [
    {
     "name": "stdout",
     "output_type": "stream",
     "text": [
      "The autoreload extension is already loaded. To reload it, use:\n",
      "  %reload_ext autoreload\n"
     ]
    },
    {
     "data": {
      "application/javascript": [
       "\n",
       "            setTimeout(function() {\n",
       "                var nbb_cell_id = 9;\n",
       "                var nbb_unformatted_code = \"%load_ext autoreload\\n%autoreload 2\";\n",
       "                var nbb_formatted_code = \"%load_ext autoreload\\n%autoreload 2\";\n",
       "                var nbb_cells = Jupyter.notebook.get_cells();\n",
       "                for (var i = 0; i < nbb_cells.length; ++i) {\n",
       "                    if (nbb_cells[i].input_prompt_number == nbb_cell_id) {\n",
       "                        if (nbb_cells[i].get_text() == nbb_unformatted_code) {\n",
       "                             nbb_cells[i].set_text(nbb_formatted_code);\n",
       "                        }\n",
       "                        break;\n",
       "                    }\n",
       "                }\n",
       "            }, 500);\n",
       "            "
      ],
      "text/plain": [
       "<IPython.core.display.Javascript object>"
      ]
     },
     "metadata": {},
     "output_type": "display_data"
    }
   ],
   "source": [
    "%load_ext autoreload\n",
    "%autoreload 2"
   ]
  },
  {
   "cell_type": "code",
   "execution_count": 10,
   "metadata": {},
   "outputs": [
    {
     "data": {
      "application/javascript": [
       "\n",
       "            setTimeout(function() {\n",
       "                var nbb_cell_id = 10;\n",
       "                var nbb_unformatted_code = \"# Vins params\\n# num_targets = 5000\\n# detection_radius = 1\\n# target_boundary = (50000, 50000)\\n\\n# My mod for speed\\nnum_targets = 50000\\ndetection_radius = 1\\ntarget_boundary = (5000, 5000)\\n\\ntargets = gym.uniform_targets(num_targets, target_boundary)\\nvalues = gym.constant_values(targets, 1)\\n\\nenv = gym.Field()\\nenv.add_targets(targets, values, detection_radius=detection_radius)\";\n",
       "                var nbb_formatted_code = \"# Vins params\\n# num_targets = 5000\\n# detection_radius = 1\\n# target_boundary = (50000, 50000)\\n\\n# My mod for speed\\nnum_targets = 50000\\ndetection_radius = 1\\ntarget_boundary = (5000, 5000)\\n\\ntargets = gym.uniform_targets(num_targets, target_boundary)\\nvalues = gym.constant_values(targets, 1)\\n\\nenv = gym.Field()\\nenv.add_targets(targets, values, detection_radius=detection_radius)\";\n",
       "                var nbb_cells = Jupyter.notebook.get_cells();\n",
       "                for (var i = 0; i < nbb_cells.length; ++i) {\n",
       "                    if (nbb_cells[i].input_prompt_number == nbb_cell_id) {\n",
       "                        if (nbb_cells[i].get_text() == nbb_unformatted_code) {\n",
       "                             nbb_cells[i].set_text(nbb_formatted_code);\n",
       "                        }\n",
       "                        break;\n",
       "                    }\n",
       "                }\n",
       "            }, 500);\n",
       "            "
      ],
      "text/plain": [
       "<IPython.core.display.Javascript object>"
      ]
     },
     "metadata": {},
     "output_type": "display_data"
    }
   ],
   "source": [
    "# Vins params\n",
    "# num_targets = 5000\n",
    "# detection_radius = 1\n",
    "# target_boundary = (50000, 50000)\n",
    "\n",
    "# My mod for speed\n",
    "num_targets = 50000\n",
    "detection_radius = 1\n",
    "target_boundary = (5000, 5000)\n",
    "\n",
    "targets = gym.uniform_targets(num_targets, target_boundary)\n",
    "values = gym.constant_values(targets, 1)\n",
    "\n",
    "env = gym.Field()\n",
    "env.add_targets(targets, values, detection_radius=detection_radius)"
   ]
  },
  {
   "cell_type": "code",
   "execution_count": 11,
   "metadata": {},
   "outputs": [
    {
     "data": {
      "text/plain": [
       "<matplotlib.axes._subplots.AxesSubplot at 0x7f98a95fab38>"
      ]
     },
     "execution_count": 11,
     "metadata": {},
     "output_type": "execute_result"
    },
    {
     "data": {
      "image/png": "[encoded data removed]",
      "text/plain": [
       "<Figure size 216x216 with 1 Axes>"
      ]
     },
     "metadata": {
      "image/png": {
       "height": 222,
       "width": 236
      }
     },
     "output_type": "display_data"
    },
    {
     "data": {
      "application/javascript": [
       "\n",
       "            setTimeout(function() {\n",
       "                var nbb_cell_id = 11;\n",
       "                var nbb_unformatted_code = \"plot_targets2d(env, boundary=target_boundary, title=\\\"Environment\\\")\";\n",
       "                var nbb_formatted_code = \"plot_targets2d(env, boundary=target_boundary, title=\\\"Environment\\\")\";\n",
       "                var nbb_cells = Jupyter.notebook.get_cells();\n",
       "                for (var i = 0; i < nbb_cells.length; ++i) {\n",
       "                    if (nbb_cells[i].input_prompt_number == nbb_cell_id) {\n",
       "                        if (nbb_cells[i].get_text() == nbb_unformatted_code) {\n",
       "                             nbb_cells[i].set_text(nbb_formatted_code);\n",
       "                        }\n",
       "                        break;\n",
       "                    }\n",
       "                }\n",
       "            }, 500);\n",
       "            "
      ],
      "text/plain": [
       "<IPython.core.display.Javascript object>"
      ]
     },
     "metadata": {},
     "output_type": "display_data"
    }
   ],
   "source": [
    "plot_targets2d(env, boundary=target_boundary, title=\"Environment\")"
   ]
  },
  {
   "cell_type": "code",
   "execution_count": 12,
   "metadata": {},
   "outputs": [
    {
     "name": "stdout",
     "output_type": "stream",
     "text": [
      "1\n",
      "2\n",
      "3\n",
      "4\n",
      "5\n",
      "6\n",
      "7\n",
      "8\n",
      "9\n",
      "10\n",
      "11\n",
      "12\n",
      "13\n"
     ]
    },
    {
     "ename": "KeyboardInterrupt",
     "evalue": "",
     "output_type": "error",
     "traceback": [
      "\u001b[0;31m---------------------------------------------------------------------------\u001b[0m",
      "\u001b[0;31mKeyboardInterrupt\u001b[0m                         Traceback (most recent call last)",
      "\u001b[0;32m<ipython-input-12-813f614395b7>\u001b[0m in \u001b[0;36m<module>\u001b[0;34m\u001b[0m\n\u001b[1;32m     24\u001b[0m         \u001b[0mnum_steps\u001b[0m\u001b[0;34m=\u001b[0m\u001b[0mnum_steps\u001b[0m\u001b[0;34m,\u001b[0m\u001b[0;34m\u001b[0m\u001b[0;34m\u001b[0m\u001b[0m\n\u001b[1;32m     25\u001b[0m         \u001b[0mnum_experiments\u001b[0m\u001b[0;34m=\u001b[0m\u001b[0mnum_experiments\u001b[0m\u001b[0;34m,\u001b[0m\u001b[0;34m\u001b[0m\u001b[0;34m\u001b[0m\u001b[0m\n\u001b[0;32m---> 26\u001b[0;31m         \u001b[0mseed\u001b[0m\u001b[0;34m=\u001b[0m\u001b[0mseed\u001b[0m\u001b[0;34m,\u001b[0m\u001b[0;34m\u001b[0m\u001b[0;34m\u001b[0m\u001b[0m\n\u001b[0m\u001b[1;32m     27\u001b[0m     )\n\u001b[1;32m     28\u001b[0m \u001b[0;34m\u001b[0m\u001b[0m\n",
      "\u001b[0;32m~/Code/explorations-book/explorationlib/run.py\u001b[0m in \u001b[0;36mexperiment\u001b[0;34m(name, agent, env, num_steps, num_experiments, seed)\u001b[0m\n\u001b[1;32m     42\u001b[0m             \u001b[0;31m# Step\u001b[0m\u001b[0;34m\u001b[0m\u001b[0;34m\u001b[0m\u001b[0;34m\u001b[0m\u001b[0m\n\u001b[1;32m     43\u001b[0m             \u001b[0maction\u001b[0m \u001b[0;34m=\u001b[0m \u001b[0magent\u001b[0m\u001b[0;34m(\u001b[0m\u001b[0mstate\u001b[0m\u001b[0;34m)\u001b[0m\u001b[0;34m\u001b[0m\u001b[0;34m\u001b[0m\u001b[0m\n\u001b[0;32m---> 44\u001b[0;31m             \u001b[0menv\u001b[0m\u001b[0;34m.\u001b[0m\u001b[0mstep\u001b[0m\u001b[0;34m(\u001b[0m\u001b[0maction\u001b[0m\u001b[0;34m)\u001b[0m\u001b[0;34m\u001b[0m\u001b[0;34m\u001b[0m\u001b[0m\n\u001b[0m\u001b[1;32m     45\u001b[0m             \u001b[0mstate\u001b[0m\u001b[0;34m,\u001b[0m \u001b[0mreward\u001b[0m\u001b[0;34m,\u001b[0m \u001b[0mdone\u001b[0m\u001b[0;34m,\u001b[0m \u001b[0minfo\u001b[0m \u001b[0;34m=\u001b[0m \u001b[0menv\u001b[0m\u001b[0;34m.\u001b[0m\u001b[0mlast\u001b[0m\u001b[0;34m(\u001b[0m\u001b[0;34m)\u001b[0m\u001b[0;34m\u001b[0m\u001b[0;34m\u001b[0m\u001b[0m\n\u001b[1;32m     46\u001b[0m \u001b[0;34m\u001b[0m\u001b[0m\n",
      "\u001b[0;32m~/Code/explorations-book/explorationlib/local_gym.py\u001b[0m in \u001b[0;36mstep\u001b[0;34m(self, action)\u001b[0m\n\u001b[1;32m    167\u001b[0m     \u001b[0;32mdef\u001b[0m \u001b[0mstep\u001b[0m\u001b[0;34m(\u001b[0m\u001b[0mself\u001b[0m\u001b[0;34m,\u001b[0m \u001b[0maction\u001b[0m\u001b[0;34m)\u001b[0m\u001b[0;34m:\u001b[0m\u001b[0;34m\u001b[0m\u001b[0;34m\u001b[0m\u001b[0m\n\u001b[1;32m    168\u001b[0m         \u001b[0mself\u001b[0m\u001b[0;34m.\u001b[0m\u001b[0mstate\u001b[0m \u001b[0;34m+=\u001b[0m \u001b[0maction\u001b[0m\u001b[0;34m\u001b[0m\u001b[0;34m\u001b[0m\u001b[0m\n\u001b[0;32m--> 169\u001b[0;31m         \u001b[0mself\u001b[0m\u001b[0;34m.\u001b[0m\u001b[0mcheck_targets\u001b[0m\u001b[0;34m(\u001b[0m\u001b[0;34m)\u001b[0m\u001b[0;34m\u001b[0m\u001b[0;34m\u001b[0m\u001b[0m\n\u001b[0m\u001b[1;32m    170\u001b[0m \u001b[0;34m\u001b[0m\u001b[0m\n\u001b[1;32m    171\u001b[0m     \u001b[0;32mdef\u001b[0m \u001b[0mlast\u001b[0m\u001b[0;34m(\u001b[0m\u001b[0mself\u001b[0m\u001b[0;34m)\u001b[0m\u001b[0;34m:\u001b[0m\u001b[0;34m\u001b[0m\u001b[0;34m\u001b[0m\u001b[0m\n",
      "\u001b[0;32m~/Code/explorations-book/explorationlib/local_gym.py\u001b[0m in \u001b[0;36mcheck_targets\u001b[0;34m(self)\u001b[0m\n\u001b[1;32m    201\u001b[0m         \u001b[0mreward\u001b[0m \u001b[0;34m=\u001b[0m \u001b[0;36m0\u001b[0m\u001b[0;34m\u001b[0m\u001b[0;34m\u001b[0m\u001b[0m\n\u001b[1;32m    202\u001b[0m         \u001b[0;32mfor\u001b[0m \u001b[0mi\u001b[0m\u001b[0;34m,\u001b[0m \u001b[0ml\u001b[0m \u001b[0;32min\u001b[0m \u001b[0menumerate\u001b[0m\u001b[0;34m(\u001b[0m\u001b[0mself\u001b[0m\u001b[0;34m.\u001b[0m\u001b[0mtargets\u001b[0m\u001b[0;34m)\u001b[0m\u001b[0;34m:\u001b[0m\u001b[0;34m\u001b[0m\u001b[0;34m\u001b[0m\u001b[0m\n\u001b[0;32m--> 203\u001b[0;31m             \u001b[0mdistance\u001b[0m \u001b[0;34m=\u001b[0m \u001b[0md_func\u001b[0m\u001b[0;34m(\u001b[0m\u001b[0ml\u001b[0m\u001b[0;34m,\u001b[0m \u001b[0mself\u001b[0m\u001b[0;34m.\u001b[0m\u001b[0mstate\u001b[0m\u001b[0;34m)\u001b[0m\u001b[0;34m\u001b[0m\u001b[0;34m\u001b[0m\u001b[0m\n\u001b[0m\u001b[1;32m    204\u001b[0m             \u001b[0;32mif\u001b[0m \u001b[0mdistance\u001b[0m \u001b[0;34m<=\u001b[0m \u001b[0mself\u001b[0m\u001b[0;34m.\u001b[0m\u001b[0mdetection_radius\u001b[0m\u001b[0;34m:\u001b[0m\u001b[0;34m\u001b[0m\u001b[0;34m\u001b[0m\u001b[0m\n\u001b[1;32m    205\u001b[0m                 \u001b[0mreward\u001b[0m \u001b[0;34m+=\u001b[0m \u001b[0mself\u001b[0m\u001b[0;34m.\u001b[0m\u001b[0mvalues\u001b[0m\u001b[0;34m[\u001b[0m\u001b[0mi\u001b[0m\u001b[0;34m]\u001b[0m\u001b[0;34m\u001b[0m\u001b[0;34m\u001b[0m\u001b[0m\n",
      "\u001b[0;32m~/Code/explorations-book/explorationlib/local_gym.py\u001b[0m in \u001b[0;36m<lambda>\u001b[0;34m(x, y)\u001b[0m\n\u001b[1;32m    196\u001b[0m \u001b[0;34m\u001b[0m\u001b[0m\n\u001b[1;32m    197\u001b[0m         \u001b[0;31m# The space is:\u001b[0m\u001b[0;34m\u001b[0m\u001b[0;34m\u001b[0m\u001b[0;34m\u001b[0m\u001b[0m\n\u001b[0;32m--> 198\u001b[0;31m         \u001b[0md_func\u001b[0m \u001b[0;34m=\u001b[0m \u001b[0;32mlambda\u001b[0m \u001b[0mx\u001b[0m\u001b[0;34m,\u001b[0m \u001b[0my\u001b[0m\u001b[0;34m:\u001b[0m \u001b[0mnp\u001b[0m\u001b[0;34m.\u001b[0m\u001b[0msqrt\u001b[0m\u001b[0;34m(\u001b[0m\u001b[0mnp\u001b[0m\u001b[0;34m.\u001b[0m\u001b[0msum\u001b[0m\u001b[0;34m(\u001b[0m\u001b[0mnp\u001b[0m\u001b[0;34m.\u001b[0m\u001b[0mpower\u001b[0m\u001b[0;34m(\u001b[0m\u001b[0my\u001b[0m \u001b[0;34m-\u001b[0m \u001b[0mx\u001b[0m\u001b[0;34m,\u001b[0m \u001b[0;36m2\u001b[0m\u001b[0;34m)\u001b[0m\u001b[0;34m)\u001b[0m\u001b[0;34m)\u001b[0m\u001b[0;34m\u001b[0m\u001b[0;34m\u001b[0m\u001b[0m\n\u001b[0m\u001b[1;32m    199\u001b[0m \u001b[0;34m\u001b[0m\u001b[0m\n\u001b[1;32m    200\u001b[0m         \u001b[0;31m# Check for targets, build up 'reward' value\u001b[0m\u001b[0;34m\u001b[0m\u001b[0;34m\u001b[0m\u001b[0;34m\u001b[0m\u001b[0m\n",
      "\u001b[0;31mKeyboardInterrupt\u001b[0m: "
     ]
    },
    {
     "data": {
      "application/javascript": [
       "\n",
       "            setTimeout(function() {\n",
       "                var nbb_cell_id = 12;\n",
       "                var nbb_unformatted_code = \"# Run params\\nnorm = 10\\nnum_experiments = 1\\nnum_steps = 1000\\nseed = None\\n\\n# num_exponents = 10\\n# exponents = np.linspace(1.01, 2.99, num_exponents)\\nexponents = [1.01, 2.00, 2.99]\\n\\n# !\\nscores = []\\nfor x in exponents:\\n    # Init\\n    x = np.round(x, 2)\\n    exp_name = f\\\"data/levy{x}_scan.pkl\\\"\\n    levy = agent.Levy2d(exponent=x, norm=norm)\\n\\n    # Run repeats\\n    experiment(\\n        exp_name,\\n        levy,\\n        env,\\n        num_steps=num_steps,\\n        num_experiments=num_experiments,\\n        seed=seed,\\n    )\\n\\n    # Measure\\n    exp_data = load(exp_name)\\n    scores.append(average_reward(exp_data))\\n\\n    # Progress\\n    print(x, summary2d(exp_data))\";\n",
       "                var nbb_formatted_code = \"# Run params\\nnorm = 10\\nnum_experiments = 1\\nnum_steps = 1000\\nseed = None\\n\\n# num_exponents = 10\\n# exponents = np.linspace(1.01, 2.99, num_exponents)\\nexponents = [1.01, 2.00, 2.99]\\n\\n# !\\nscores = []\\nfor x in exponents:\\n    # Init\\n    x = np.round(x, 2)\\n    exp_name = f\\\"data/levy{x}_scan.pkl\\\"\\n    levy = agent.Levy2d(exponent=x, norm=norm)\\n\\n    # Run repeats\\n    experiment(\\n        exp_name,\\n        levy,\\n        env,\\n        num_steps=num_steps,\\n        num_experiments=num_experiments,\\n        seed=seed,\\n    )\\n\\n    # Measure\\n    exp_data = load(exp_name)\\n    scores.append(average_reward(exp_data))\\n\\n    # Progress\\n    print(x, summary2d(exp_data))\";\n",
       "                var nbb_cells = Jupyter.notebook.get_cells();\n",
       "                for (var i = 0; i < nbb_cells.length; ++i) {\n",
       "                    if (nbb_cells[i].input_prompt_number == nbb_cell_id) {\n",
       "                        if (nbb_cells[i].get_text() == nbb_unformatted_code) {\n",
       "                             nbb_cells[i].set_text(nbb_formatted_code);\n",
       "                        }\n",
       "                        break;\n",
       "                    }\n",
       "                }\n",
       "            }, 500);\n",
       "            "
      ],
      "text/plain": [
       "<IPython.core.display.Javascript object>"
      ]
     },
     "metadata": {},
     "output_type": "display_data"
    }
   ],
   "source": [
    "# Run params\n",
    "norm = 10\n",
    "num_experiments = 1\n",
    "num_steps = 1000\n",
    "seed = None\n",
    "\n",
    "# num_exponents = 10\n",
    "# exponents = np.linspace(1.01, 2.99, num_exponents)\n",
    "exponents = [1.01, 2.00, 2.99]\n",
    "\n",
    "# !\n",
    "scores = []\n",
    "for x in exponents:\n",
    "    # Init\n",
    "    x = np.round(x, 2)\n",
    "    exp_name = f\"data/levy{x}_scan.pkl\"\n",
    "    levy = agent.Levy2d(exponent=x, norm=norm)\n",
    "\n",
    "    # Run repeats\n",
    "    experiment(\n",
    "        exp_name,\n",
    "        levy,\n",
    "        env,\n",
    "        num_steps=num_steps,\n",
    "        num_experiments=num_experiments,\n",
    "        seed=seed,\n",
    "    )\n",
    "\n",
    "    # Measure\n",
    "    exp_data = load(exp_name)\n",
    "    scores.append(average_reward(exp_data))\n",
    "\n",
    "    # Progress\n",
    "    print(x, summary2d(exp_data))"
   ]
  },
  {
   "cell_type": "code",
   "execution_count": null,
   "metadata": {},
   "outputs": [],
   "source": [
    "# Vis\n",
    "plt.plot(exponents, scores)\n",
    "plt.xlabel(\"Exponent\")\n",
    "plt.xlabel(\"Search eff.\")"
   ]
  },
  {
   "cell_type": "markdown",
   "metadata": {},
   "source": [
    "Look at levy u=2 up close"
   ]
  },
  {
   "cell_type": "code",
   "execution_count": null,
   "metadata": {},
   "outputs": [],
   "source": [
    "exp_data = load(f\"data/levy2.0_scan.pkl\")\n",
    "\n",
    "# Targets (red), Search (black)\n",
    "ax = plot_position2d(\n",
    "    exp_data, boundary=target_boundary, label=\"Search\", figsize=(10, 10)\n",
    ")\n",
    "plot_targets2d(\n",
    "    env, boundary=target_boundary, color=\"red\", alpha=0.8, label=\"Targets\", ax=ax\n",
    ")\n",
    "\n",
    "# Lengths and tim\n",
    "plot_length(exp_data, color=\"black\")"
   ]
  },
  {
   "cell_type": "code",
   "execution_count": null,
   "metadata": {},
   "outputs": [],
   "source": []
  },
  {
   "cell_type": "code",
   "execution_count": null,
   "metadata": {},
   "outputs": [],
   "source": []
  },
  {
   "cell_type": "code",
   "execution_count": null,
   "metadata": {},
   "outputs": [],
   "source": []
  }
 ],
 "metadata": {
  "kernelspec": {
   "display_name": "Python 3",
   "language": "python",
   "name": "python3"
  },
  "language_info": {
   "codemirror_mode": {
    "name": "ipython",
    "version": 3
   },
   "file_extension": ".py",
   "mimetype": "text/x-python",
   "name": "python",
   "nbconvert_exporter": "python",
   "pygments_lexer": "ipython3",
   "version": "3.6.7"
  }
 },
 "nbformat": 4,
 "nbformat_minor": 2
}
