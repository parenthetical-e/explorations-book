{
 "metadata": {
  "language_info": {
   "codemirror_mode": {
    "name": "ipython",
    "version": 3
   },
   "file_extension": ".py",
   "mimetype": "text/x-python",
   "name": "python",
   "nbconvert_exporter": "python",
   "pygments_lexer": "ipython3",
   "version": "3.6.7-final"
  },
  "orig_nbformat": 2,
  "kernelspec": {
   "name": "python3",
   "display_name": "Python 3.6.7 64-bit",
   "metadata": {
    "interpreter": {
     "hash": "5c0fa7a4f8f1487a2aac67eb43e7b2e553808a81f9be50af9e1ab194481cfe22"
    }
   }
  }
 },
 "nbformat": 4,
 "nbformat_minor": 2,
 "cells": [
  {
   "source": [
    "# The Sniff! - Lab\n",
    "\n",
    "In this assignment we take on chemotaxic exploration. We'll compare two of our random agents, levy and diffusion, with a gradient searcher who operates akin to a _E. Coli_ (the simple model, anyway).\n",
    "\n",
    "There are two sections. First we examine exploration for a single target with a variable scent in an open field. Second, we play with a maze.\n",
    "\n",
    "## Install and import needed modules"
   ],
   "cell_type": "markdown",
   "metadata": {}
  },
  {
   "cell_type": "code",
   "execution_count": 2,
   "metadata": {},
   "outputs": [
    {
     "output_type": "stream",
     "name": "stdout",
     "text": [
      "Collecting git+https://github.com/MattChanTK/gym-maze.git\n",
      "  Cloning https://github.com/MattChanTK/gym-maze.git to /private/var/folders/nm/lks05xgj3hn20ntpdv1lrdyc0000gn/T/pip-req-build-1hvrg7k4\n",
      "  Running command git clone -q https://github.com/MattChanTK/gym-maze.git /private/var/folders/nm/lks05xgj3hn20ntpdv1lrdyc0000gn/T/pip-req-build-1hvrg7k4\n",
      "Requirement already satisfied, skipping upgrade: gym in /Users/qualia/anaconda3/envs/py3.6/lib/python3.6/site-packages (from gym-maze==0.4) (0.17.2)\n",
      "Requirement already satisfied, skipping upgrade: pygame in /Users/qualia/anaconda3/envs/py3.6/lib/python3.6/site-packages (from gym-maze==0.4) (2.0.1)\n",
      "Requirement already satisfied, skipping upgrade: numpy in /Users/qualia/anaconda3/envs/py3.6/lib/python3.6/site-packages (from gym-maze==0.4) (1.17.3)\n",
      "Requirement already satisfied, skipping upgrade: cloudpickle<1.4.0,>=1.2.0 in /Users/qualia/anaconda3/envs/py3.6/lib/python3.6/site-packages (from gym->gym-maze==0.4) (1.3.0)\n",
      "Requirement already satisfied, skipping upgrade: pyglet<=1.5.0,>=1.4.0 in /Users/qualia/anaconda3/envs/py3.6/lib/python3.6/site-packages (from gym->gym-maze==0.4) (1.5.0)\n",
      "Requirement already satisfied, skipping upgrade: scipy in /Users/qualia/anaconda3/envs/py3.6/lib/python3.6/site-packages (from gym->gym-maze==0.4) (1.4.1)\n",
      "Requirement already satisfied, skipping upgrade: future in /Users/qualia/anaconda3/envs/py3.6/lib/python3.6/site-packages (from pyglet<=1.5.0,>=1.4.0->gym->gym-maze==0.4) (0.18.2)\n",
      "Building wheels for collected packages: gym-maze\n",
      "  Building wheel for gym-maze (setup.py) ... \u001b[?25ldone\n",
      "\u001b[?25h  Created wheel for gym-maze: filename=gym_maze-0.4-cp36-none-any.whl size=14252 sha256=461a6019c361f086453ebf33e4d4fb702902fc7c9dae36bf1782241107cf64b8\n",
      "  Stored in directory: /private/var/folders/nm/lks05xgj3hn20ntpdv1lrdyc0000gn/T/pip-ephem-wheel-cache-2qo9rl7u/wheels/c1/34/29/7fee8c5826161095f37ad7e82ad3a08b6e46f66ab6b05be5eb\n",
      "Successfully built gym-maze\n",
      "Installing collected packages: gym-maze\n",
      "  Found existing installation: gym-maze 0.4\n",
      "    Uninstalling gym-maze-0.4:\n",
      "      Successfully uninstalled gym-maze-0.4\n",
      "Successfully installed gym-maze-0.4\n"
     ]
    }
   ],
   "source": [
    "# Install explorationlib?\n",
    "# !pip install --upgrade git+https://github.com/parenthetical-e/explorationlib\n",
    "# !pip install --upgrade git+https://github.com/MattChanTK/gym-maze.git"
   ]
  },
  {
   "cell_type": "code",
   "execution_count": 7,
   "metadata": {},
   "outputs": [],
   "source": [
    "# Import misc\n",
    "import shutil\n",
    "import glob\n",
    "import os\n",
    "import copy\n",
    "import sys\n",
    "\n",
    "# Vis - 1\n",
    "import numpy as np\n",
    "import seaborn as sns\n",
    "import matplotlib.pyplot as plt\n",
    "\n",
    "# Exp\n",
    "from explorationlib.run import experiment\n",
    "from explorationlib.util import select_exp\n",
    "from explorationlib.util import load\n",
    "from explorationlib.util import save\n",
    "\n",
    "# Agents\n",
    "from explorationlib.agent import DiffusionDiscrete\n",
    "from explorationlib.agent import TruncatedLevyDiscrete\n",
    "from explorationlib.agent import GradientDiffusionDiscrete\n",
    "\n",
    "# Env\n",
    "from explorationlib.local_gym import ScentGrid\n",
    "from explorationlib.local_gym import ScentMazeEnv\n",
    "from explorationlib.local_gym import create_grid_scent\n",
    "from explorationlib.local_gym import create_maze_scent\n",
    "\n",
    "\n",
    "# Vis - 2\n",
    "from explorationlib.plot import plot_position2d\n",
    "from explorationlib.plot import plot_length_hist\n",
    "from explorationlib.plot import plot_length\n",
    "from explorationlib.plot import plot_targets2d\n",
    "from explorationlib.plot import plot_scent_grid\n",
    "\n",
    "# Score\n",
    "from explorationlib.score import average_reward"
   ]
  },
  {
   "cell_type": "code",
   "execution_count": 8,
   "metadata": {},
   "outputs": [],
   "source": [
    "# Pretty plots\n",
    "%matplotlib inline\n",
    "%config InlineBackend.figure_format='retina'\n",
    "%config IPCompleter.greedy=True\n",
    "plt.rcParams[\"axes.facecolor\"] = \"white\"\n",
    "plt.rcParams[\"figure.facecolor\"] = \"white\"\n",
    "plt.rcParams[\"font.size\"] = \"16\"\n",
    "\n",
    "# Dev\n",
    "%load_ext autoreload\n",
    "%autoreload 2"
   ]
  },
  {
   "source": [
    "# Section 1 - singular scent\n",
    "How much faster can smell get you there?\n",
    "\n",
    "_Background_: the model of scent in our _sniff_ agent (aka _GradientDiffusionDiscrete_) is as simple as can be. \n",
    "\n",
    "- When the scent gradient is positive, meaning you are going \"up\" the gradient, the probability of turning is set to _p pos_. \n",
    "- When the gradient is negative, the turning probability is set to _p neg_. (See code below, for an example). \n",
    "- If the agent \"decides\" to turn, the direction is uniform random.\n",
    "- The length of travel before the next turn decision is sampled from an exponential distribution just like the _DiffusionDiscrete_\n",
    "\n",
    "_Note:_ this lab the open field and maze are defined on a discrete (integer) grid. In previous labs we worked with a continuous field. \n",
    "\n"
   ],
   "cell_type": "markdown",
   "metadata": {}
  },
  {
   "source": [
    "### Question 1.1\n",
    "Make a blind guess for how much better the sniffing agent will be? Will the other random agents ever come close? Answer this for both the open field, with a single target, and the maze, with its walls barriers and dead ends."
   ],
   "cell_type": "markdown",
   "metadata": {}
  },
  {
   "cell_type": "code",
   "execution_count": 9,
   "metadata": {},
   "outputs": [],
   "source": [
    "# Write your answer here, as a comment"
   ]
  },
  {
   "source": [
    "The name of the env for this section is _ScentGrid_. Like adding targets, adding a scent is a separate step from creating the env. So the example code below.\n",
    "\n",
    "### Example - run 1 experiment and visualize some of its results."
   ],
   "cell_type": "markdown",
   "metadata": {}
  },
  {
   "cell_type": "code",
   "execution_count": 36,
   "metadata": {},
   "outputs": [
    {
     "output_type": "stream",
     "name": "stderr",
     "text": [
      "test4_levy: 100%|██████████| 1/1 [00:00<00:00,  2.39it/s]\n",
      "test4_diff: 100%|██████████| 1/1 [00:00<00:00,  2.77it/s]\n",
      "test4_sniff: 100%|██████████| 1/1 [00:00<00:00,  2.90it/s]\n"
     ]
    }
   ],
   "source": [
    "# Experiment settings\n",
    "num_experiments = 1\n",
    "num_steps = 1000\n",
    "p_neg = 1\n",
    "p_pos = 0.5\n",
    "scent_sigma = 10\n",
    "\n",
    "\n",
    "# Env\n",
    "detection_radius = 1\n",
    "min_length = 1\n",
    "max_length = 10\n",
    "\n",
    "env = ScentGrid()\n",
    "boundary = (100, 100)\n",
    "target = (5,5)\n",
    "coord, scent = create_grid_scent(boundary, amplitude=1, sigma=scent_sigma)\n",
    "env.add_scent(target, 1, coord, scent)\n",
    "# TODO plot scent\n",
    "\n",
    "# Agents\n",
    "diff = DiffusionDiscrete(min_length=min_length, scale=1)\n",
    "levy2 = TruncatedLevyDiscrete(min_length=min_length, max_length=max_length, exponent=2)\n",
    "sniff = GradientDiffusionDiscrete(num_actions=4, min_length=min_length, scale=2, p_neg=p_neg, p_pos=p_pos)\n",
    "\n",
    "# Cleanup \n",
    "for path in glob.glob(\"data/test4_*.pkl\"):\n",
    "    os.remove(path)\n",
    "\n",
    "# !\n",
    "levy2_exp = experiment(\n",
    "    f\"data/test4_levy.pkl\",\n",
    "    levy2,\n",
    "    env,\n",
    "    num_steps=num_steps,\n",
    "    num_experiments=num_experiments,\n",
    "    dump=False,\n",
    "    split_state=True,\n",
    ")\n",
    "diff_exp = experiment(\n",
    "    f\"data/test4_diff.pkl\",\n",
    "    diff,\n",
    "    env,\n",
    "    num_steps=num_steps,\n",
    "    num_experiments=num_experiments,\n",
    "    dump=False,\n",
    "    split_state=True,\n",
    ")\n",
    "sniff_exp = experiment(\n",
    "    f\"data/test4_sniff.pkl\",\n",
    "    sniff,\n",
    "    env,\n",
    "    num_steps=num_steps,\n",
    "    num_experiments=num_experiments,\n",
    "    dump=False,\n",
    "    split_state=True,\n",
    ")"
   ]
  },
  {
   "source": [
    "Plot the scent \n",
    "\n",
    "_Note_: the axis is in matrix space not Grid space. Use this to get a sense of how high and wide the scent is. "
   ],
   "cell_type": "markdown",
   "metadata": {}
  },
  {
   "cell_type": "code",
   "execution_count": 31,
   "metadata": {},
   "outputs": [
    {
     "output_type": "execute_result",
     "data": {
      "text/plain": [
       "<matplotlib.axes._subplots.AxesSubplot at 0x7fb957ca8978>"
      ]
     },
     "metadata": {},
     "execution_count": 31
    },
    {
     "output_type": "display_data",
     "data": {
      "text/plain": "<Figure size 216x216 with 1 Axes>",
      "image/png": "[encoded data removed]"
     },
     "metadata": {
      "image/png": {
       "width": 234,
       "height": 225
      }
     }
    }
   ],
   "source": [
    "plot_scent_grid(env)"
   ]
  },
  {
   "source": [
    "Plot the walk (in grid space)"
   ],
   "cell_type": "markdown",
   "metadata": {}
  },
  {
   "cell_type": "code",
   "execution_count": 32,
   "metadata": {},
   "outputs": [
    {
     "output_type": "display_data",
     "data": {
      "text/plain": "<Figure size 216x216 with 1 Axes>",
      "image/png": "[encoded data removed]"
     },
     "metadata": {
      "image/png": {
       "width": 388,
       "height": 225
      }
     }
    }
   ],
   "source": [
    "plot_boundary = (100, 100)\n",
    "\n",
    "num_experiment = 0\n",
    "ax = plot_position2d(\n",
    "    select_exp(levy2_exp, num_experiment),\n",
    "    boundary=plot_boundary,\n",
    "    label=\"Levy2\",\n",
    "    color=\"purple\",\n",
    "    alpha=0.6,\n",
    "    figsize=(3, 3),\n",
    ")\n",
    "ax = plot_position2d(\n",
    "    select_exp(diff_exp, num_experiment),\n",
    "    boundary=plot_boundary,\n",
    "    label=\"Diffusion\",\n",
    "    color=\"brown\",\n",
    "    alpha=0.6,\n",
    "    ax=ax,\n",
    ")\n",
    "ax = plot_position2d(\n",
    "    select_exp(sniff_exp, num_experiment),\n",
    "    boundary=plot_boundary,\n",
    "    label=\"Sniff\",\n",
    "    color=\"green\",\n",
    "    alpha=0.6,\n",
    "    ax=ax,\n",
    ")\n",
    "ax = plot_targets2d(\n",
    "    env,\n",
    "    boundary=plot_boundary,\n",
    "    color=\"black\",\n",
    "    alpha=1,\n",
    "    label=\"Targets\",\n",
    "    ax=ax,\n",
    ")   "
   ]
  },
  {
   "source": [
    "Total reward"
   ],
   "cell_type": "markdown",
   "metadata": {}
  },
  {
   "cell_type": "code",
   "execution_count": 29,
   "metadata": {},
   "outputs": [
    {
     "output_type": "stream",
     "name": "stdout",
     "text": [
      "Levy - 0\nDiff - 0\nSniff - 22\n"
     ]
    }
   ],
   "source": [
    "print(f'Levy - {np.sum(select_exp(levy2_exp, num_experiment)[\"exp_reward\"])}')\n",
    "print(f'Diff - {np.sum(select_exp(diff_exp, num_experiment)[\"exp_reward\"])}')\n",
    "print(f'Sniff - {np.sum(select_exp(sniff_exp, num_experiment)[\"exp_reward\"])}')"
   ]
  },
  {
   "source": [
    "### Question 1.2\n",
    "In the example above _p pos_ was 0.5, and _p neg_ was 1.0. This means that when the gradient was positive half the time the walker would change direction anyway. It also means the all the time when the grad was negative, the explorer would change direction.\n",
    "\n",
    "Do these parameter choices seem optimal to you? \n",
    "\n",
    "Make a best guess for how to improve them, if you think they can be improved. Explain your choice."
   ],
   "cell_type": "markdown",
   "metadata": {}
  },
  {
   "cell_type": "code",
   "execution_count": 33,
   "metadata": {},
   "outputs": [],
   "source": [
    "# Write your answer here, as a comment"
   ]
  },
  {
   "source": [
    "### Question 1.3\n",
    "Test your hypothesis from Question 1.2. Use total reward as your metric, and the code above to get started. \n",
    "\n",
    "_Note:_ Leave the _scent sigma_ parameter value set to 10.\n",
    "\n",
    "Were you right? \n",
    "\n",
    "What is the best set of _p pos_ and _p neg_ that you can find?"
   ],
   "cell_type": "markdown",
   "metadata": {}
  },
  {
   "cell_type": "code",
   "execution_count": 35,
   "metadata": {},
   "outputs": [],
   "source": [
    "# Write your code here"
   ]
  },
  {
   "cell_type": "code",
   "execution_count": 37,
   "metadata": {},
   "outputs": [],
   "source": [
    "# Write your answers here, as a comment"
   ]
  },
  {
   "source": [
    "### Question 1.4\n",
    "In Question 1.3 we held _scent sigma_ set to 10. If we vary _scent sigma_ on (1,2,5,10), do you think this will change your best set of _p pos_ and _p neg_? \n",
    "\n",
    "Guess first, then test."
   ],
   "cell_type": "markdown",
   "metadata": {}
  },
  {
   "cell_type": "code",
   "execution_count": null,
   "metadata": {},
   "outputs": [],
   "source": [
    "# Write your answers here, as a comment"
   ]
  },
  {
   "cell_type": "code",
   "execution_count": 41,
   "metadata": {},
   "outputs": [],
   "source": [
    "# Write your answers here, as a comment"
   ]
  },
  {
   "source": [
    "### Question 1.5\n",
    "Was your hypothesis in Question 2.4 right?\n",
    "\n",
    "What are the best sets of _p pos_ and _p neg_ you can find for the four _scent sigmas_ in Question 1.4?"
   ],
   "cell_type": "markdown",
   "metadata": {}
  },
  {
   "cell_type": "code",
   "execution_count": null,
   "metadata": {},
   "outputs": [],
   "source": [
    "# Write your answers here, as a comment"
   ]
  },
  {
   "source": [
    "# Section 2 - a-maze-zing \n",
    "\n",
    "I have modifed and existing [Maze env](https://github.com/MattChanTK/gym-maze) to have a scent. Here is an example of it, as a gif.\n",
    "\n",
    "![Maze](https://camo.githubusercontent.com/0ddf75894c1afc047b54188c958c9eb6967b8b4d1148b95aae918113420a45ad/687474703a2f2f692e67697068792e636f6d2f417233614b786b4141683379302e676966)"
   ],
   "cell_type": "markdown",
   "metadata": {}
  },
  {
   "source": [
    "The agent starts at the top (red), and tries to find the exit (blue) in the bottom right. In our version we can add a scent field to the exit. This can help our sniffer solve the maze more quickly, or at least that is what we guess should happen in principle."
   ],
   "cell_type": "markdown",
   "metadata": {}
  },
  {
   "source": [
    "### Example - one maze experiment"
   ],
   "cell_type": "markdown",
   "metadata": {}
  },
  {
   "cell_type": "code",
   "execution_count": 58,
   "metadata": {},
   "outputs": [
    {
     "output_type": "stream",
     "name": "stderr",
     "text": [
      "test4_levy: 100%|██████████| 1/1 [00:00<00:00,  1.27it/s]\n",
      "test4_diff: 100%|██████████| 1/1 [00:00<00:00,  1.25it/s]\n",
      "test4_sniff: 100%|██████████| 1/1 [00:01<00:00,  1.10s/it]\n"
     ]
    }
   ],
   "source": [
    "# Experiment settings\n",
    "num_experiments = 1\n",
    "num_steps = 10000\n",
    "p_neg = 1\n",
    "p_pos = 0.5\n",
    "scent_sigma = 5\n",
    "\n",
    "# Env\n",
    "detection_radius = 1\n",
    "min_length = 1\n",
    "max_length = 10\n",
    "\n",
    "# Env\n",
    "boundary = (10, 10)\n",
    "env = ScentMazeEnv(maze_size=boundary)\n",
    "coord, scent = create_maze_scent(boundary, amplitude=1, sigma=scent_sigma)\n",
    "env.add_scent(scent)\n",
    "\n",
    "# Agents\n",
    "diff = DiffusionDiscrete(num_actions=4, min_length=min_length, scale=1)\n",
    "levy2 = TruncatedLevyDiscrete(num_actions=4, min_length=min_length, max_length=max_length, exponent=2)\n",
    "sniff = GradientDiffusionDiscrete(num_actions=4, min_length=min_length, scale=2, p_neg=p_neg, p_pos=p_pos)\n",
    "\n",
    "# Cleanup \n",
    "for path in glob.glob(\"data/test4_*.pkl\"):\n",
    "    os.remove(path)\n",
    "\n",
    "# !\n",
    "levy2_exp = experiment(\n",
    "    f\"data/test4_levy.pkl\",\n",
    "    levy2,\n",
    "    env,\n",
    "    num_steps=num_steps,\n",
    "    num_experiments=num_experiments,\n",
    "    dump=False,\n",
    "    split_state=True,\n",
    ")\n",
    "diff_exp = experiment(\n",
    "    f\"data/test4_diff.pkl\",\n",
    "    diff,\n",
    "    env,\n",
    "    num_steps=num_steps,\n",
    "    num_experiments=num_experiments,\n",
    "    dump=False,\n",
    "    split_state=True,\n",
    ")\n",
    "sniff_exp = experiment(\n",
    "    f\"data/test4_sniff.pkl\",\n",
    "    sniff,\n",
    "    env,\n",
    "    num_steps=num_steps,\n",
    "    num_experiments=num_experiments,\n",
    "    dump=False,\n",
    "    split_state=True,\n",
    ")"
   ]
  },
  {
   "source": [
    "# Plot the experiment. \n",
    "_Note_: unfortunately out standard plotting methods “flip” the axis when displaying the maze. So it looks like we begin at the middle, and finish at the top right. Don't let this distract you. Nothing important has changed."
   ],
   "cell_type": "markdown",
   "metadata": {}
  },
  {
   "cell_type": "code",
   "execution_count": 60,
   "metadata": {},
   "outputs": [
    {
     "output_type": "display_data",
     "data": {
      "text/plain": "<Figure size 216x216 with 1 Axes>",
      "image/png": "[encoded data removed]"
     },
     "metadata": {
      "image/png": {
       "width": 345,
       "height": 225
      }
     }
    }
   ],
   "source": [
    "plot_boundary = (10, 10)\n",
    "\n",
    "num_experiment = 0\n",
    "ax = plot_position2d(\n",
    "    select_exp(levy2_exp, num_experiment),\n",
    "    boundary=plot_boundary,\n",
    "    label=\"Levy\",\n",
    "    color=\"purple\",\n",
    "    alpha=0.6,\n",
    "    figsize=(3, 3),\n",
    ")\n",
    "ax = plot_position2d(\n",
    "    select_exp(diff_exp, num_experiment),\n",
    "    boundary=plot_boundary,\n",
    "    label=\"Diff\",\n",
    "    color=\"brown\",\n",
    "    alpha=0.6,\n",
    "    ax=ax,\n",
    ")\n",
    "ax = plot_position2d(\n",
    "    select_exp(sniff_exp, num_experiment),\n",
    "    boundary=plot_boundary,\n",
    "    label=\"Sniff\",\n",
    "    color=\"green\",\n",
    "    alpha=0.6,\n",
    "    ax=ax,\n",
    ")"
   ]
  },
  {
   "source": [
    "Total reward\n",
    "\n",
    "_Note_: Postive values are good. Negative values bad. If you can't get positive values, try increasing _num steps_."
   ],
   "cell_type": "markdown",
   "metadata": {}
  },
  {
   "cell_type": "code",
   "execution_count": 61,
   "metadata": {},
   "outputs": [
    {
     "output_type": "stream",
     "name": "stdout",
     "text": [
      "Levy - -9.999000000000004\nDiff - -7.7870000000000035\nSniff - -9.999000000000004\n"
     ]
    }
   ],
   "source": [
    "print(f'Levy - {np.sum(select_exp(levy2_exp, num_experiment)[\"exp_reward\"])}')\n",
    "print(f'Diff - {np.sum(select_exp(diff_exp, num_experiment)[\"exp_reward\"])}')\n",
    "print(f'Sniff - {np.sum(select_exp(sniff_exp, num_experiment)[\"exp_reward\"])}')"
   ]
  },
  {
   "source": [
    "### Question 2.1\n",
    "\n",
    "If we set _scent sigma_ to 5 for the maze, do you think the best _p pos_ and _p neg_ that you found in Question 1.5 will be best for the maze task? \n",
    "\n",
    "Why?"
   ],
   "cell_type": "markdown",
   "metadata": {}
  },
  {
   "cell_type": "code",
   "execution_count": null,
   "metadata": {},
   "outputs": [],
   "source": [
    "# Write your answers here, as a comment"
   ]
  },
  {
   "source": [
    "### Question 2.2\n",
    "\n",
    "Do you think that *any* value of _p pos_ and _p neg_ will cause the sniffer to outperform the other two explorers (Levy and Diffusion)? Explain your answer."
   ],
   "cell_type": "markdown",
   "metadata": {}
  },
  {
   "cell_type": "code",
   "execution_count": 42,
   "metadata": {},
   "outputs": [],
   "source": [
    "# Write your answers here, as a comment"
   ]
  },
  {
   "source": [
    "### Question 2.3\n",
    "To find an approximate answer to Question 2.2, run 100 experiments with three sets of _p pos_ and _p neg_ values. But first, explain your choice for each."
   ],
   "cell_type": "markdown",
   "metadata": {}
  },
  {
   "cell_type": "code",
   "execution_count": 44,
   "metadata": {},
   "outputs": [],
   "source": [
    "# Write your answers here, as a comment"
   ]
  },
  {
   "cell_type": "code",
   "execution_count": 62,
   "metadata": {},
   "outputs": [],
   "source": [
    "# Write your code here"
   ]
  },
  {
   "cell_type": "code",
   "execution_count": 63,
   "metadata": {},
   "outputs": [],
   "source": [
    "# Analysis helper code:\n",
    "\n",
    "# Results, names, and colors\n",
    "results = [levy2_exp, diff_exp, sniff_exp]\n",
    "names = [\"Levy\", \"Diff\", \"Sniff\"]\n",
    "colors = [\"purple\", \"brown\", \"green\"]\n",
    "\n",
    "# Score by eff\n",
    "scores = []\n",
    "for name, res, color in zip(names, results, colors):\n",
    "    r = total_reward(res)\n",
    "    scores.append(r)   "
   ]
  },
  {
   "cell_type": "code",
   "execution_count": null,
   "metadata": {},
   "outputs": [],
   "source": [
    "# Dists\n",
    "for (name, s, c) in zip(names, scores, colors):\n",
    "    plt.hist(s, label=name, color=c, alpha=0.5, bins=20)\n",
    "    plt.legend()\n",
    "    plt.xlabel(\"Score\")\n",
    "    plt.tight_layout()\n",
    "    sns.despine()"
   ]
  },
  {
   "cell_type": "code",
   "execution_count": null,
   "metadata": {},
   "outputs": [],
   "source": [
    "# Tabulate\n",
    "m, sd = [], []\n",
    "for (name, s, c) in zip(names, scores, colors):\n",
    "    m.append(np.mean(s))\n",
    "    sd.append(np.std(s))\n",
    "\n",
    "# Plot means\n",
    "fig = plt.figure(figsize=(3, 3))\n",
    "plt.bar(names, m, yerr=sd, color=\"black\", alpha=0.6)\n",
    "plt.ylabel(\"Score\")\n",
    "plt.tight_layout()\n",
    "sns.despine()"
   ]
  }
 ]
}